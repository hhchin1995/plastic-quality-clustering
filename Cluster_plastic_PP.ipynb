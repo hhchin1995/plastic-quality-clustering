{
  "nbformat": 4,
  "nbformat_minor": 0,
  "metadata": {
    "colab": {
      "name": "Cluster_plastic_PP.ipynb",
      "provenance": [],
      "collapsed_sections": [],
      "machine_shape": "hm",
      "include_colab_link": true
    },
    "kernelspec": {
      "name": "python3",
      "display_name": "Python 3"
    }
  },
  "cells": [
    {
      "cell_type": "markdown",
      "metadata": {
        "id": "view-in-github",
        "colab_type": "text"
      },
      "source": [
        "<a href=\"https://colab.research.google.com/github/hhchin1995/plastic-quality-clustering/blob/main/Cluster_plastic_PP.ipynb\" target=\"_parent\"><img src=\"https://colab.research.google.com/assets/colab-badge.svg\" alt=\"Open In Colab\"/></a>"
      ]
    },
    {
      "cell_type": "markdown",
      "metadata": {
        "id": "0MRC0e0KhQ0S"
      },
      "source": [
        "# Decision Tree Classification"
      ]
    },
    {
      "cell_type": "markdown",
      "metadata": {
        "id": "LWd1UlMnhT2s"
      },
      "source": [
        "## Importing the libraries"
      ]
    },
    {
      "cell_type": "code",
      "metadata": {
        "id": "YvGPUQaHhXfL"
      },
      "source": [
        "import numpy as np\n",
        "import matplotlib.pyplot as plt\n",
        "import pandas as pd"
      ],
      "execution_count": null,
      "outputs": []
    },
    {
      "cell_type": "markdown",
      "metadata": {
        "id": "K1VMqkGvhc3-"
      },
      "source": [
        "## Importing the dataset"
      ]
    },
    {
      "cell_type": "code",
      "metadata": {
        "id": "M52QDmyzhh9s",
        "colab": {
          "resources": {
            "http://localhost:8080/nbextensions/google.colab/files.js": {
              "data": "Ly8gQ29weXJpZ2h0IDIwMTcgR29vZ2xlIExMQwovLwovLyBMaWNlbnNlZCB1bmRlciB0aGUgQXBhY2hlIExpY2Vuc2UsIFZlcnNpb24gMi4wICh0aGUgIkxpY2Vuc2UiKTsKLy8geW91IG1heSBub3QgdXNlIHRoaXMgZmlsZSBleGNlcHQgaW4gY29tcGxpYW5jZSB3aXRoIHRoZSBMaWNlbnNlLgovLyBZb3UgbWF5IG9idGFpbiBhIGNvcHkgb2YgdGhlIExpY2Vuc2UgYXQKLy8KLy8gICAgICBodHRwOi8vd3d3LmFwYWNoZS5vcmcvbGljZW5zZXMvTElDRU5TRS0yLjAKLy8KLy8gVW5sZXNzIHJlcXVpcmVkIGJ5IGFwcGxpY2FibGUgbGF3IG9yIGFncmVlZCB0byBpbiB3cml0aW5nLCBzb2Z0d2FyZQovLyBkaXN0cmlidXRlZCB1bmRlciB0aGUgTGljZW5zZSBpcyBkaXN0cmlidXRlZCBvbiBhbiAiQVMgSVMiIEJBU0lTLAovLyBXSVRIT1VUIFdBUlJBTlRJRVMgT1IgQ09ORElUSU9OUyBPRiBBTlkgS0lORCwgZWl0aGVyIGV4cHJlc3Mgb3IgaW1wbGllZC4KLy8gU2VlIHRoZSBMaWNlbnNlIGZvciB0aGUgc3BlY2lmaWMgbGFuZ3VhZ2UgZ292ZXJuaW5nIHBlcm1pc3Npb25zIGFuZAovLyBsaW1pdGF0aW9ucyB1bmRlciB0aGUgTGljZW5zZS4KCi8qKgogKiBAZmlsZW92ZXJ2aWV3IEhlbHBlcnMgZm9yIGdvb2dsZS5jb2xhYiBQeXRob24gbW9kdWxlLgogKi8KKGZ1bmN0aW9uKHNjb3BlKSB7CmZ1bmN0aW9uIHNwYW4odGV4dCwgc3R5bGVBdHRyaWJ1dGVzID0ge30pIHsKICBjb25zdCBlbGVtZW50ID0gZG9jdW1lbnQuY3JlYXRlRWxlbWVudCgnc3BhbicpOwogIGVsZW1lbnQudGV4dENvbnRlbnQgPSB0ZXh0OwogIGZvciAoY29uc3Qga2V5IG9mIE9iamVjdC5rZXlzKHN0eWxlQXR0cmlidXRlcykpIHsKICAgIGVsZW1lbnQuc3R5bGVba2V5XSA9IHN0eWxlQXR0cmlidXRlc1trZXldOwogIH0KICByZXR1cm4gZWxlbWVudDsKfQoKLy8gTWF4IG51bWJlciBvZiBieXRlcyB3aGljaCB3aWxsIGJlIHVwbG9hZGVkIGF0IGEgdGltZS4KY29uc3QgTUFYX1BBWUxPQURfU0laRSA9IDEwMCAqIDEwMjQ7CgpmdW5jdGlvbiBfdXBsb2FkRmlsZXMoaW5wdXRJZCwgb3V0cHV0SWQpIHsKICBjb25zdCBzdGVwcyA9IHVwbG9hZEZpbGVzU3RlcChpbnB1dElkLCBvdXRwdXRJZCk7CiAgY29uc3Qgb3V0cHV0RWxlbWVudCA9IGRvY3VtZW50LmdldEVsZW1lbnRCeUlkKG91dHB1dElkKTsKICAvLyBDYWNoZSBzdGVwcyBvbiB0aGUgb3V0cHV0RWxlbWVudCB0byBtYWtlIGl0IGF2YWlsYWJsZSBmb3IgdGhlIG5leHQgY2FsbAogIC8vIHRvIHVwbG9hZEZpbGVzQ29udGludWUgZnJvbSBQeXRob24uCiAgb3V0cHV0RWxlbWVudC5zdGVwcyA9IHN0ZXBzOwoKICByZXR1cm4gX3VwbG9hZEZpbGVzQ29udGludWUob3V0cHV0SWQpOwp9CgovLyBUaGlzIGlzIHJvdWdobHkgYW4gYXN5bmMgZ2VuZXJhdG9yIChub3Qgc3VwcG9ydGVkIGluIHRoZSBicm93c2VyIHlldCksCi8vIHdoZXJlIHRoZXJlIGFyZSBtdWx0aXBsZSBhc3luY2hyb25vdXMgc3RlcHMgYW5kIHRoZSBQeXRob24gc2lkZSBpcyBnb2luZwovLyB0byBwb2xsIGZvciBjb21wbGV0aW9uIG9mIGVhY2ggc3RlcC4KLy8gVGhpcyB1c2VzIGEgUHJvbWlzZSB0byBibG9jayB0aGUgcHl0aG9uIHNpZGUgb24gY29tcGxldGlvbiBvZiBlYWNoIHN0ZXAsCi8vIHRoZW4gcGFzc2VzIHRoZSByZXN1bHQgb2YgdGhlIHByZXZpb3VzIHN0ZXAgYXMgdGhlIGlucHV0IHRvIHRoZSBuZXh0IHN0ZXAuCmZ1bmN0aW9uIF91cGxvYWRGaWxlc0NvbnRpbnVlKG91dHB1dElkKSB7CiAgY29uc3Qgb3V0cHV0RWxlbWVudCA9IGRvY3VtZW50LmdldEVsZW1lbnRCeUlkKG91dHB1dElkKTsKICBjb25zdCBzdGVwcyA9IG91dHB1dEVsZW1lbnQuc3RlcHM7CgogIGNvbnN0IG5leHQgPSBzdGVwcy5uZXh0KG91dHB1dEVsZW1lbnQubGFzdFByb21pc2VWYWx1ZSk7CiAgcmV0dXJuIFByb21pc2UucmVzb2x2ZShuZXh0LnZhbHVlLnByb21pc2UpLnRoZW4oKHZhbHVlKSA9PiB7CiAgICAvLyBDYWNoZSB0aGUgbGFzdCBwcm9taXNlIHZhbHVlIHRvIG1ha2UgaXQgYXZhaWxhYmxlIHRvIHRoZSBuZXh0CiAgICAvLyBzdGVwIG9mIHRoZSBnZW5lcmF0b3IuCiAgICBvdXRwdXRFbGVtZW50Lmxhc3RQcm9taXNlVmFsdWUgPSB2YWx1ZTsKICAgIHJldHVybiBuZXh0LnZhbHVlLnJlc3BvbnNlOwogIH0pOwp9CgovKioKICogR2VuZXJhdG9yIGZ1bmN0aW9uIHdoaWNoIGlzIGNhbGxlZCBiZXR3ZWVuIGVhY2ggYXN5bmMgc3RlcCBvZiB0aGUgdXBsb2FkCiAqIHByb2Nlc3MuCiAqIEBwYXJhbSB7c3RyaW5nfSBpbnB1dElkIEVsZW1lbnQgSUQgb2YgdGhlIGlucHV0IGZpbGUgcGlja2VyIGVsZW1lbnQuCiAqIEBwYXJhbSB7c3RyaW5nfSBvdXRwdXRJZCBFbGVtZW50IElEIG9mIHRoZSBvdXRwdXQgZGlzcGxheS4KICogQHJldHVybiB7IUl0ZXJhYmxlPCFPYmplY3Q+fSBJdGVyYWJsZSBvZiBuZXh0IHN0ZXBzLgogKi8KZnVuY3Rpb24qIHVwbG9hZEZpbGVzU3RlcChpbnB1dElkLCBvdXRwdXRJZCkgewogIGNvbnN0IGlucHV0RWxlbWVudCA9IGRvY3VtZW50LmdldEVsZW1lbnRCeUlkKGlucHV0SWQpOwogIGlucHV0RWxlbWVudC5kaXNhYmxlZCA9IGZhbHNlOwoKICBjb25zdCBvdXRwdXRFbGVtZW50ID0gZG9jdW1lbnQuZ2V0RWxlbWVudEJ5SWQob3V0cHV0SWQpOwogIG91dHB1dEVsZW1lbnQuaW5uZXJIVE1MID0gJyc7CgogIGNvbnN0IHBpY2tlZFByb21pc2UgPSBuZXcgUHJvbWlzZSgocmVzb2x2ZSkgPT4gewogICAgaW5wdXRFbGVtZW50LmFkZEV2ZW50TGlzdGVuZXIoJ2NoYW5nZScsIChlKSA9PiB7CiAgICAgIHJlc29sdmUoZS50YXJnZXQuZmlsZXMpOwogICAgfSk7CiAgfSk7CgogIGNvbnN0IGNhbmNlbCA9IGRvY3VtZW50LmNyZWF0ZUVsZW1lbnQoJ2J1dHRvbicpOwogIGlucHV0RWxlbWVudC5wYXJlbnRFbGVtZW50LmFwcGVuZENoaWxkKGNhbmNlbCk7CiAgY2FuY2VsLnRleHRDb250ZW50ID0gJ0NhbmNlbCB1cGxvYWQnOwogIGNvbnN0IGNhbmNlbFByb21pc2UgPSBuZXcgUHJvbWlzZSgocmVzb2x2ZSkgPT4gewogICAgY2FuY2VsLm9uY2xpY2sgPSAoKSA9PiB7CiAgICAgIHJlc29sdmUobnVsbCk7CiAgICB9OwogIH0pOwoKICAvLyBXYWl0IGZvciB0aGUgdXNlciB0byBwaWNrIHRoZSBmaWxlcy4KICBjb25zdCBmaWxlcyA9IHlpZWxkIHsKICAgIHByb21pc2U6IFByb21pc2UucmFjZShbcGlja2VkUHJvbWlzZSwgY2FuY2VsUHJvbWlzZV0pLAogICAgcmVzcG9uc2U6IHsKICAgICAgYWN0aW9uOiAnc3RhcnRpbmcnLAogICAgfQogIH07CgogIGNhbmNlbC5yZW1vdmUoKTsKCiAgLy8gRGlzYWJsZSB0aGUgaW5wdXQgZWxlbWVudCBzaW5jZSBmdXJ0aGVyIHBpY2tzIGFyZSBub3QgYWxsb3dlZC4KICBpbnB1dEVsZW1lbnQuZGlzYWJsZWQgPSB0cnVlOwoKICBpZiAoIWZpbGVzKSB7CiAgICByZXR1cm4gewogICAgICByZXNwb25zZTogewogICAgICAgIGFjdGlvbjogJ2NvbXBsZXRlJywKICAgICAgfQogICAgfTsKICB9CgogIGZvciAoY29uc3QgZmlsZSBvZiBmaWxlcykgewogICAgY29uc3QgbGkgPSBkb2N1bWVudC5jcmVhdGVFbGVtZW50KCdsaScpOwogICAgbGkuYXBwZW5kKHNwYW4oZmlsZS5uYW1lLCB7Zm9udFdlaWdodDogJ2JvbGQnfSkpOwogICAgbGkuYXBwZW5kKHNwYW4oCiAgICAgICAgYCgke2ZpbGUudHlwZSB8fCAnbi9hJ30pIC0gJHtmaWxlLnNpemV9IGJ5dGVzLCBgICsKICAgICAgICBgbGFzdCBtb2RpZmllZDogJHsKICAgICAgICAgICAgZmlsZS5sYXN0TW9kaWZpZWREYXRlID8gZmlsZS5sYXN0TW9kaWZpZWREYXRlLnRvTG9jYWxlRGF0ZVN0cmluZygpIDoKICAgICAgICAgICAgICAgICAgICAgICAgICAgICAgICAgICAgJ24vYSd9IC0gYCkpOwogICAgY29uc3QgcGVyY2VudCA9IHNwYW4oJzAlIGRvbmUnKTsKICAgIGxpLmFwcGVuZENoaWxkKHBlcmNlbnQpOwoKICAgIG91dHB1dEVsZW1lbnQuYXBwZW5kQ2hpbGQobGkpOwoKICAgIGNvbnN0IGZpbGVEYXRhUHJvbWlzZSA9IG5ldyBQcm9taXNlKChyZXNvbHZlKSA9PiB7CiAgICAgIGNvbnN0IHJlYWRlciA9IG5ldyBGaWxlUmVhZGVyKCk7CiAgICAgIHJlYWRlci5vbmxvYWQgPSAoZSkgPT4gewogICAgICAgIHJlc29sdmUoZS50YXJnZXQucmVzdWx0KTsKICAgICAgfTsKICAgICAgcmVhZGVyLnJlYWRBc0FycmF5QnVmZmVyKGZpbGUpOwogICAgfSk7CiAgICAvLyBXYWl0IGZvciB0aGUgZGF0YSB0byBiZSByZWFkeS4KICAgIGxldCBmaWxlRGF0YSA9IHlpZWxkIHsKICAgICAgcHJvbWlzZTogZmlsZURhdGFQcm9taXNlLAogICAgICByZXNwb25zZTogewogICAgICAgIGFjdGlvbjogJ2NvbnRpbnVlJywKICAgICAgfQogICAgfTsKCiAgICAvLyBVc2UgYSBjaHVua2VkIHNlbmRpbmcgdG8gYXZvaWQgbWVzc2FnZSBzaXplIGxpbWl0cy4gU2VlIGIvNjIxMTU2NjAuCiAgICBsZXQgcG9zaXRpb24gPSAwOwogICAgZG8gewogICAgICBjb25zdCBsZW5ndGggPSBNYXRoLm1pbihmaWxlRGF0YS5ieXRlTGVuZ3RoIC0gcG9zaXRpb24sIE1BWF9QQVlMT0FEX1NJWkUpOwogICAgICBjb25zdCBjaHVuayA9IG5ldyBVaW50OEFycmF5KGZpbGVEYXRhLCBwb3NpdGlvbiwgbGVuZ3RoKTsKICAgICAgcG9zaXRpb24gKz0gbGVuZ3RoOwoKICAgICAgY29uc3QgYmFzZTY0ID0gYnRvYShTdHJpbmcuZnJvbUNoYXJDb2RlLmFwcGx5KG51bGwsIGNodW5rKSk7CiAgICAgIHlpZWxkIHsKICAgICAgICByZXNwb25zZTogewogICAgICAgICAgYWN0aW9uOiAnYXBwZW5kJywKICAgICAgICAgIGZpbGU6IGZpbGUubmFtZSwKICAgICAgICAgIGRhdGE6IGJhc2U2NCwKICAgICAgICB9LAogICAgICB9OwoKICAgICAgbGV0IHBlcmNlbnREb25lID0gZmlsZURhdGEuYnl0ZUxlbmd0aCA9PT0gMCA/CiAgICAgICAgICAxMDAgOgogICAgICAgICAgTWF0aC5yb3VuZCgocG9zaXRpb24gLyBmaWxlRGF0YS5ieXRlTGVuZ3RoKSAqIDEwMCk7CiAgICAgIHBlcmNlbnQudGV4dENvbnRlbnQgPSBgJHtwZXJjZW50RG9uZX0lIGRvbmVgOwoKICAgIH0gd2hpbGUgKHBvc2l0aW9uIDwgZmlsZURhdGEuYnl0ZUxlbmd0aCk7CiAgfQoKICAvLyBBbGwgZG9uZS4KICB5aWVsZCB7CiAgICByZXNwb25zZTogewogICAgICBhY3Rpb246ICdjb21wbGV0ZScsCiAgICB9CiAgfTsKfQoKc2NvcGUuZ29vZ2xlID0gc2NvcGUuZ29vZ2xlIHx8IHt9OwpzY29wZS5nb29nbGUuY29sYWIgPSBzY29wZS5nb29nbGUuY29sYWIgfHwge307CnNjb3BlLmdvb2dsZS5jb2xhYi5fZmlsZXMgPSB7CiAgX3VwbG9hZEZpbGVzLAogIF91cGxvYWRGaWxlc0NvbnRpbnVlLAp9Owp9KShzZWxmKTsK",
              "ok": true,
              "headers": [
                [
                  "content-type",
                  "application/javascript"
                ]
              ],
              "status": 200,
              "status_text": ""
            }
          },
          "base_uri": "https://localhost:8080/",
          "height": 1000
        },
        "outputId": "cf818074-ab50-4afb-b3c6-abc186b58b44"
      },
      "source": [
        "from google.colab import files\n",
        "import io\n",
        "uploaded = files.upload()\n",
        "\n",
        "# dataset = pd.read_csv('PRES_plastic4-1.csv')\n",
        "dataset = pd.read_csv('Plastic_PP_All_2.csv')\n",
        "# PET\n",
        "# X = dataset.iloc[:-54, 2:4].values\n",
        "# y = dataset.iloc[:-54, 5].values\n",
        "\n",
        "# PE\n",
        "# X = dataset.iloc[15:-20, 2:5].values\n",
        "# X[:,1]=X[:,2]\n",
        "# X=X[:,:-1]\n",
        "# y = dataset.iloc[15:-20, 5].values\n",
        "\n",
        "\n",
        "\n",
        "# PP\n",
        "# X = dataset.iloc[50:, 2:5].values\n",
        "# X[:,1]=X[:,2]\n",
        "# X=np.delete(X,8,0)\n",
        "# X=X[:,:-1]\n",
        "# y = dataset.iloc[50:, 5].values\n",
        "# y=np.delete(y,8,0)\n",
        "X_c = dataset.iloc[0:300, 2:23].values\n",
        "Source = dataset.iloc[300:304, 2:23].values\n",
        "Sink = dataset.iloc[304:309, 2:23].values\n",
        "print(X_c.shape)\n",
        "print(Source)\n",
        "print(Sink)\n",
        "\n",
        "y_train=dataset.iloc[:, 0].values\n",
        "\n"
      ],
      "execution_count": null,
      "outputs": [
        {
          "output_type": "display_data",
          "data": {
            "text/html": [
              "\n",
              "     <input type=\"file\" id=\"files-e817bfdd-5846-4612-9a9d-a0341060f0b3\" name=\"files[]\" multiple disabled\n",
              "        style=\"border:none\" />\n",
              "     <output id=\"result-e817bfdd-5846-4612-9a9d-a0341060f0b3\">\n",
              "      Upload widget is only available when the cell has been executed in the\n",
              "      current browser session. Please rerun this cell to enable.\n",
              "      </output>\n",
              "      <script src=\"/nbextensions/google.colab/files.js\"></script> "
            ],
            "text/plain": [
              "<IPython.core.display.HTML object>"
            ]
          },
          "metadata": {}
        },
        {
          "output_type": "stream",
          "name": "stdout",
          "text": [
            "Saving Plastic_PP_All_2.csv to Plastic_PP_All_2.csv\n",
            "(300, 21)\n",
            "[[8.43576320e-02 5.05109968e+00 1.20807632e+00 2.29478363e+00\n",
            "  1.83240062e+01 1.05926093e+02 1.21331304e+00 6.70974401e-01\n",
            "  2.17627488e+00 7.65434941e-01 1.41054521e+01 2.15187448e+01\n",
            "  2.32877305e+03 2.49596328e+01 3.52991826e+02 5.48046576e+01\n",
            "  2.33977593e+01 2.00000000e+00 2.00000000e+00 2.00000000e+00\n",
            "  3.00000000e+00]\n",
            " [1.00220953e-01 6.15650474e-01 5.24550135e-01 5.35459895e+00\n",
            "  9.50838475e+00 9.08333248e+01 1.35811194e+00 8.07175113e-01\n",
            "  1.02255555e+00 8.35115398e-01 1.71040309e+01 7.44588880e-01\n",
            "  1.51669333e+03 2.28410479e+01 1.20675180e+02 5.44457273e+01\n",
            "  2.33086363e+01 2.00000000e+00 2.00000000e+00 2.00000000e+00\n",
            "  3.00000000e+00]\n",
            " [3.53454866e-01 4.17004510e-02 3.01455294e+00 1.76138917e+01\n",
            "  2.08240807e+01 3.50415337e+02 1.77621984e+00 1.40000000e-01\n",
            "  1.27102715e+00 3.41979975e+00 2.05862699e-01 1.17882681e-01\n",
            "  2.58405555e+03 1.04028929e+01 1.69024279e+02 2.06491956e+01\n",
            "  1.04038638e+01 2.36880558e+00 2.54947526e+00 2.37367587e+00\n",
            "  3.82668930e+00]\n",
            " [1.09357333e-01 3.19608304e+00 1.20470874e+00 9.01334479e-01\n",
            "  6.43931007e+00 1.79155319e+02 1.53243293e+00 8.20696435e-01\n",
            "  2.29578967e+00 6.92211598e-01 5.46667652e+00 1.45212627e+01\n",
            "  1.15271959e+03 8.96229091e+00 1.33551620e+02 5.47209273e+01\n",
            "  2.34724927e+01 2.00000000e+00 2.00000000e+00 2.00000000e+00\n",
            "  3.00000000e+00]]\n",
            "[[2.92475911e-01 1.58902074e+01 1.63955809e+00 4.35064238e+00\n",
            "  2.15030847e+01 2.42278005e+02 1.36651371e+00 4.55378311e-01\n",
            "  1.37007277e+00 5.13728992e+00 4.13922588e+01 1.95874161e+00\n",
            "  3.35028222e+02 2.47426055e+01 1.21440338e+03 6.52959193e+01\n",
            "  2.79911795e+01 2.00000000e+00 2.00000000e+00 2.00000000e+00\n",
            "  3.00000000e+00]\n",
            " [5.63798399e-01 3.28780076e+00 2.47872232e+00 2.92453032e+01\n",
            "  2.39209236e+01 6.50354139e+02 1.41158648e+00 3.76159561e-01\n",
            "  2.22286196e+00 3.30834096e+00 2.58504197e+00 5.21813046e+00\n",
            "  4.09818660e+03 1.40101484e+01 2.32643957e+03 6.34609093e+01\n",
            "  2.91038318e+01 2.00000000e+00 2.00000000e+00 2.00000000e+00\n",
            "  3.00000000e+00]\n",
            " [3.58212130e-02 3.00000000e-02 1.20373993e+00 3.35120058e+00\n",
            "  1.62258290e+02 1.05387541e+01 1.29351837e+00 1.90640556e-01\n",
            "  5.47771254e-01 1.28037202e+00 2.88190063e-01 5.73550779e-01\n",
            "  9.80609379e+03 9.63293181e+00 4.04359056e+02 5.51224595e+01\n",
            "  2.57836914e+01 2.00000000e+00 2.00000000e+00 2.00000000e+00\n",
            "  3.00000000e+00]\n",
            " [2.30300699e-01 3.00000000e-02 8.64555052e-01 2.35996213e+00\n",
            "  8.32881399e+01 4.71733040e+00 1.20223631e+00 1.54072074e-01\n",
            "  2.36444899e+00 1.43475137e+00 3.05137835e-01 2.81664762e-01\n",
            "  1.14398801e+04 6.58718943e+01 7.91833373e+01 5.60143110e+01\n",
            "  2.82510021e+01 2.00000000e+00 2.00000000e+00 2.00000000e+00\n",
            "  3.00000000e+00]\n",
            " [1.22806117e-01 4.81417690e-02 1.85257362e+00 6.90036724e+00\n",
            "  7.32917684e+00 1.96374427e+03 1.68426144e+00 1.40000000e-01\n",
            "  4.61135090e+00 6.74363296e-01 1.31747263e-01 1.69715662e-01\n",
            "  2.96760392e+03 1.00325890e+01 1.04975430e+02 3.71603217e+01\n",
            "  2.39428294e+01 2.28180707e+00 2.77243617e+00 2.68479768e+00\n",
            "  3.65082963e+00]]\n"
          ]
        }
      ]
    },
    {
      "cell_type": "markdown",
      "metadata": {
        "id": "kW3c7UYih0hT"
      },
      "source": [
        "## Feature Scaling"
      ]
    },
    {
      "cell_type": "code",
      "metadata": {
        "id": "9fQlDPKCh8sc",
        "colab": {
          "base_uri": "https://localhost:8080/"
        },
        "outputId": "bfdc63ca-d458-4768-c7cb-b876c8b10685"
      },
      "source": [
        "from sklearn.preprocessing import StandardScaler\n",
        "sc = StandardScaler()\n",
        "\n",
        "sc.fit(X_c)\n",
        "X_c=sc.transform(X_c)\n",
        "Source=sc.transform(Source)\n",
        "Sink=sc.transform(Sink)\n",
        "\n",
        "\n",
        "print(X_c[26])"
      ],
      "execution_count": null,
      "outputs": [
        {
          "output_type": "stream",
          "name": "stdout",
          "text": [
            "[ 1.8219953   2.65578636  2.90693391 -0.0309338  -0.27786023 -0.55665403\n",
            "  0.25434403  0.87631421  1.31145357  1.25569069  0.63339512 -0.63795606\n",
            " -0.79911855 -0.18231887  1.45600974  0.94139552  0.35951824 -0.47872429\n",
            " -0.47497191 -0.4756626  -0.50635829]\n"
          ]
        }
      ]
    },
    {
      "cell_type": "markdown",
      "metadata": {
        "id": "vWqvfmURuj1e"
      },
      "source": [
        "Custom Sampling (clean data)"
      ]
    },
    {
      "cell_type": "code",
      "metadata": {
        "id": "SpaXViRkujlB"
      },
      "source": [
        ""
      ],
      "execution_count": null,
      "outputs": []
    },
    {
      "cell_type": "markdown",
      "metadata": {
        "id": "dPxZSlDxV6Em"
      },
      "source": [
        "Clustering"
      ]
    },
    {
      "cell_type": "code",
      "metadata": {
        "colab": {
          "base_uri": "https://localhost:8080/",
          "height": 295
        },
        "id": "oz1icyMFZjtp",
        "outputId": "a26be93c-b933-4cf3-8c99-4f8f3f74cb78"
      },
      "source": [
        "# Using the elbow method to find the optimal number of clusters\n",
        "\n",
        "\n",
        "\n",
        "\n",
        "#####X_c=X_train\n",
        "\n",
        "\n",
        "#X_c = sc.fit_transform(X_c)\n",
        "\n",
        "\n",
        "\n",
        "\n",
        "from sklearn.cluster import KMeans\n",
        "wcss = []\n",
        "for i in range(1, 11):\n",
        "    kmeans = KMeans(n_clusters = i, init = 'k-means++', random_state = 42)\n",
        "    kmeans.fit(X_c)\n",
        "    wcss.append(kmeans.inertia_)\n",
        "plt.plot(range(1, 11), wcss)\n",
        "plt.title('The Elbow Method')\n",
        "plt.xlabel('Number of clusters')\n",
        "plt.ylabel('WCSS')\n",
        "plt.show()"
      ],
      "execution_count": null,
      "outputs": [
        {
          "output_type": "display_data",
          "data": {
            "image/png": "[encoded data removed]",
            "text/plain": [
              "<Figure size 432x288 with 1 Axes>"
            ]
          },
          "metadata": {
            "needs_background": "light"
          }
        }
      ]
    },
    {
      "cell_type": "markdown",
      "metadata": {
        "id": "XTwif_avxmwi"
      },
      "source": [
        "**Applying PCA on data**"
      ]
    },
    {
      "cell_type": "code",
      "metadata": {
        "colab": {
          "base_uri": "https://localhost:8080/",
          "height": 433
        },
        "id": "toTNVrklxm9x",
        "outputId": "e20493d8-ef40-4db6-a3bc-d65744d71469"
      },
      "source": [
        "from sklearn.decomposition import PCA\n",
        "\n",
        "pca = PCA(n_components = 12)    # Set to 10 for 90% variance\n",
        "X_c= pca.fit_transform(X_c)\n",
        "Source=pca.transform(Source)\n",
        "Sink=pca.transform(Sink)\n",
        "print(pca.explained_variance_ratio_)\n",
        "print(sum(pca.explained_variance_ratio_))\n",
        "ev=pca.explained_variance_ratio_\n",
        "print(ev)\n",
        "var=[0]*X_c.shape[1]\n",
        "for i in range(0,X_c.shape[1]):\n",
        "    var[i]=i\n",
        "print(var)\n",
        "\n",
        "plt.bar(var,list(ev*100),label='Principal Components',color='b')\n",
        "n=list(ev*100)\n",
        "pc=[]\n",
        "for i in range(len(n)):\n",
        "  n[i]=round(n[i],2)\n",
        "  pc.append('PC-'+str(i+1)+' ('+str(n[i])+' %)')\n",
        "plt.xticks(var,pc, fontsize=7, rotation=30)\n",
        "plt.ylabel('Variance Ratio (%)')\n",
        "\n",
        "for i in range(1,len(ev)):\n",
        "  ev[i]=ev[i]+ev[i-1]\n",
        "\n",
        "cum_ev=ev\n",
        "print(cum_ev)\n",
        "plt.plot(var,list(cum_ev*100),label='Cumulative variance ratio',color='r',marker='o')\n",
        "plt.legend()\n",
        "plt.show()\n"
      ],
      "execution_count": null,
      "outputs": [
        {
          "output_type": "stream",
          "name": "stdout",
          "text": [
            "[0.30496353 0.22197953 0.12847509 0.04267092 0.03093002 0.02821372\n",
            " 0.02768229 0.02681732 0.02456117 0.02289968 0.02100327 0.0193943 ]\n",
            "0.8995908525908864\n",
            "[0.30496353 0.22197953 0.12847509 0.04267092 0.03093002 0.02821372\n",
            " 0.02768229 0.02681732 0.02456117 0.02289968 0.02100327 0.0193943 ]\n",
            "[0, 1, 2, 3, 4, 5, 6, 7, 8, 9, 10, 11]\n",
            "[0.30496353 0.52694306 0.65541815 0.69808907 0.7290191  0.75723282\n",
            " 0.78491511 0.81173243 0.8362936  0.85919328 0.88019655 0.89959085]\n"
          ]
        },
        {
          "output_type": "display_data",
          "data": {
            "image/png": "[encoded data removed]",
            "text/plain": [
              "<Figure size 432x288 with 1 Axes>"
            ]
          },
          "metadata": {
            "needs_background": "light"
          }
        }
      ]
    },
    {
      "cell_type": "code",
      "metadata": {
        "colab": {
          "base_uri": "https://localhost:8080/",
          "height": 368
        },
        "id": "Y7SccLzmZ6lZ",
        "outputId": "1c413314-742c-4a23-ea86-cc0ac76ae610"
      },
      "source": [
        "# Training the K-Means model on the dataset\n",
        "kmeans = KMeans(n_clusters = 4, init = 'k-means++', random_state = 42)\n",
        "y_kmeans = kmeans.fit_predict(X_c)\n",
        "#X_c = sc.inverse_transform(X_c)\n",
        "# kmeans.cluster_centers_ = sc.inverse_transform(kmeans.cluster_centers_)\n",
        "\n",
        "# Visualising the clusters\n",
        "plt.scatter(X_c[y_kmeans == 0, 0], X_c[y_kmeans == 0, 1], s = 100, alpha=0.5,c = 'red', label = 'Cluster 1')\n",
        "plt.scatter(X_c[y_kmeans == 1, 0], X_c[y_kmeans == 1, 1], s = 100,  alpha=0.5,c = 'blue', label = 'Cluster 2')\n",
        "plt.scatter(X_c[y_kmeans == 2, 0], X_c[y_kmeans == 2, 1], s = 100,  alpha=0.5,c = 'green', label = 'Cluster 3')\n",
        "plt.scatter(X_c[y_kmeans == 3, 0], X_c[y_kmeans == 3, 1], s = 100, alpha=0.5, c = 'cyan', label = 'Cluster 4')\n",
        "# plt.scatter(X_c[y_kmeans == 4, 0], X_c[y_kmeans == 4, 1], s = 100, alpha=0.5, c = 'magenta', label = 'Cluster 5')\n",
        "plt.scatter(kmeans.cluster_centers_[:, 0], kmeans.cluster_centers_[:, 1], alpha=0.8,s = 300, c = 'yellow', label = 'Centroids')\n",
        "plt.title('Clusters of plastic waste')\n",
        "plt.xlabel('Metal concentration (ppm)')\n",
        "plt.ylabel('MFI ')\n",
        "plt.legend()\n",
        "plt.show()\n",
        "print(X_c.shape)\n",
        "# Evaluation\n",
        "from sklearn import metrics\n",
        "from sklearn.metrics import pairwise_distances\n",
        "from sklearn.metrics import davies_bouldin_score\n",
        "\n",
        "labels = kmeans.labels_\n",
        "print(metrics.silhouette_score(X_c, labels, metric='euclidean'))\n",
        "print(davies_bouldin_score(X_c, labels))\n",
        "print(metrics.calinski_harabasz_score(X_c, labels))"
      ],
      "execution_count": null,
      "outputs": [
        {
          "output_type": "display_data",
          "data": {
            "image/png": "[encoded data removed]",
            "text/plain": [
              "<Figure size 432x288 with 1 Axes>"
            ]
          },
          "metadata": {
            "needs_background": "light"
          }
        },
        {
          "output_type": "stream",
          "name": "stdout",
          "text": [
            "(300, 12)\n",
            "0.4030634678448397\n",
            "0.9483468991414701\n",
            "191.27248689543887\n"
          ]
        }
      ]
    },
    {
      "cell_type": "code",
      "metadata": {
        "colab": {
          "base_uri": "https://localhost:8080/",
          "height": 295
        },
        "id": "cKcAzk37V_fw",
        "outputId": "656a5e95-4cf3-40ba-d2e1-1b4587f53580"
      },
      "source": [
        "import scipy.cluster.hierarchy as sch\n",
        "#X_c = sc.fit_transform(X_c)\n",
        "\n",
        "dendrogram = sch.dendrogram(sch.linkage(X_c, method = 'ward'))\n",
        "plt.title('Dendrogram')\n",
        "plt.xlabel('Data')\n",
        "plt.ylabel('Euclidean distances')\n",
        "plt.show()"
      ],
      "execution_count": null,
      "outputs": [
        {
          "output_type": "display_data",
          "data": {
            "image/png": "[encoded data removed]",
            "text/plain": [
              "<Figure size 432x288 with 1 Axes>"
            ]
          },
          "metadata": {
            "needs_background": "light"
          }
        }
      ]
    },
    {
      "cell_type": "code",
      "metadata": {
        "id": "y36oQiqOWMlY",
        "colab": {
          "base_uri": "https://localhost:8080/"
        },
        "outputId": "e91c7518-97ef-494c-d54d-577aaa7a48fd"
      },
      "source": [
        "# Training the Hierarchical Clustering model on the dataset\n",
        "from sklearn.cluster import AgglomerativeClustering\n",
        "\n",
        "hc = AgglomerativeClustering(n_clusters =4, affinity = 'euclidean', linkage = 'ward')\n",
        "y_hc = hc.fit_predict(X_c)\n",
        "#X_c = sc.inverse_transform(X_c)\n",
        "\n",
        "# Evaluation\n",
        "print(metrics.silhouette_score(X_c, y_hc, metric='euclidean'))\n",
        "print(davies_bouldin_score(X_c, y_hc))\n",
        "print(metrics.calinski_harabasz_score(X_c, y_hc))"
      ],
      "execution_count": null,
      "outputs": [
        {
          "output_type": "stream",
          "name": "stdout",
          "text": [
            "0.3935603518841022\n",
            "0.971437876270411\n",
            "187.14595042020528\n"
          ]
        }
      ]
    },
    {
      "cell_type": "code",
      "metadata": {
        "colab": {
          "base_uri": "https://localhost:8080/",
          "height": 295
        },
        "id": "QZlNCFSHWYFI",
        "outputId": "6bdeaff8-0ca3-456b-c255-74290cabae07"
      },
      "source": [
        "# Visualising the clusters\n",
        "plt.scatter(X_c[y_hc == 0, 0], X_c[y_hc == 0, 1], s = 100, c = 'red', label = 'Cluster 1')\n",
        "plt.scatter(X_c[y_hc == 1, 0], X_c[y_hc == 1, 1], s = 100, c = 'blue', label = 'Cluster 2')\n",
        "plt.scatter(X_c[y_hc == 2, 0], X_c[y_hc == 2, 1], s = 100, c = 'green', label = 'Cluster 3')\n",
        "plt.scatter(X_c[y_hc == 3, 0], X_c[y_hc == 3, 1], s = 100, c = 'cyan', label = 'Cluster 4')\n",
        "# plt.scatter(X_c[y_hc == 4, 0], X_c[y_hc == 4, 1], s = 100, c = 'magenta', label = 'Cluster 5')\n",
        "plt.title('Clusters of plastic waste')\n",
        "plt.xlabel('PC1')\n",
        "plt.ylabel('PC2')\n",
        "plt.legend()\n",
        "plt.show()"
      ],
      "execution_count": null,
      "outputs": [
        {
          "output_type": "display_data",
          "data": {
            "image/png": "[encoded data removed]",
            "text/plain": [
              "<Figure size 432x288 with 1 Axes>"
            ]
          },
          "metadata": {
            "needs_background": "light"
          }
        }
      ]
    },
    {
      "cell_type": "markdown",
      "metadata": {
        "id": "4j46B47_V421"
      },
      "source": [
        "**Fit new data**"
      ]
    },
    {
      "cell_type": "code",
      "metadata": {
        "colab": {
          "base_uri": "https://localhost:8080/"
        },
        "id": "uNkIRtJQV5Cv",
        "outputId": "a1ab17bb-0f17-4a13-86ba-7909adcaa923"
      },
      "source": [
        "# Fit KNN\n",
        "from sklearn.neighbors import KNeighborsClassifier\n",
        "knn2 = KNeighborsClassifier(n_neighbors=3)\n",
        "knn2.fit(X_c, y_hc)\n",
        "# preds = pd.DataFrame(knn.predict_proba(x_c_scaled))\n",
        "\n",
        "print(Source)\n",
        "Source_preds=pd.DataFrame(knn2.predict_proba(Source))\n",
        "Source_preds.columns = ['label_0', 'label_1','label_2','label_3']\n",
        "print(Source_preds)\n",
        "\n",
        "Sink_preds=pd.DataFrame(knn2.predict_proba(Sink))\n",
        "Sink_preds.columns = ['label_0', 'label_1','label_2','label_3']\n",
        "print(Sink_preds)"
      ],
      "execution_count": null,
      "outputs": [
        {
          "output_type": "stream",
          "name": "stdout",
          "text": [
            "[[-1.60406941e+00 -1.19046688e+00 -1.91364614e+00 -2.96689898e-01\n",
            "  -1.10375739e-01  6.83871191e-01  6.09241104e-01  4.33025733e-01\n",
            "  -5.75893029e-01  2.56740283e-01 -3.15106959e-02  3.50398226e-03]\n",
            " [-1.04608959e+00 -1.37515779e+00 -1.35322758e+00 -3.17930862e-01\n",
            "  -1.04095475e-01 -1.58731335e-01 -1.12971792e-01  1.30532423e-01\n",
            "   5.54221419e-01  1.41158743e-01  2.72205612e-01  5.31613517e-01]\n",
            " [ 4.75940153e+00 -3.71786028e-02 -2.24464726e-01  1.26083776e+00\n",
            "  -1.82822114e-01 -1.01410648e+00 -3.54424987e-01 -7.24876169e-01\n",
            "   1.35352639e-01  8.15904112e-01  1.35680362e+00  4.82506787e-01]\n",
            " [-6.93520027e-01 -1.38803938e+00 -2.25320806e+00  7.46446321e-01\n",
            "   6.35670043e-01  1.32957669e-01 -1.03842267e-01 -1.23086596e-01\n",
            "  -2.92969410e-01 -6.24089324e-01 -3.09575980e-01 -2.00367257e-01]]\n",
            "   label_0  label_1  label_2  label_3\n",
            "0      0.0      0.0      0.0      1.0\n",
            "1      0.0      0.0      0.0      1.0\n",
            "2      0.0      1.0      0.0      0.0\n",
            "3      0.0      0.0      0.0      1.0\n",
            "   label_0  label_1  label_2  label_3\n",
            "0      0.0      0.0      1.0      0.0\n",
            "1      0.0      0.0      1.0      0.0\n",
            "2      1.0      0.0      0.0      0.0\n",
            "3      1.0      0.0      0.0      0.0\n",
            "4      0.0      1.0      0.0      0.0\n"
          ]
        }
      ]
    },
    {
      "cell_type": "markdown",
      "metadata": {
        "id": "CfwOYFq9QZeD"
      },
      "source": [
        "**DBSCAN**"
      ]
    },
    {
      "cell_type": "code",
      "metadata": {
        "id": "3ZuXNtvwL-EW"
      },
      "source": [
        "i=np.identity(dataset.shape[1]-5)\n",
        "print(pca.transform(i))"
      ],
      "execution_count": null,
      "outputs": []
    },
    {
      "cell_type": "code",
      "metadata": {
        "id": "rS4jW3FRQfWx"
      },
      "source": [
        "from sklearn.cluster import DBSCAN\n",
        "#X_c = sc.fit_transform(X_c)\n",
        "db = DBSCAN(eps=0.22, min_samples=30).fit(X_c)\n",
        "labels = db.labels_\n",
        "print(labels)\n",
        "print(\"Silhouette Coefficient: %0.3f\" % metrics.silhouette_score(X_c, labels))"
      ],
      "execution_count": null,
      "outputs": []
    },
    {
      "cell_type": "code",
      "metadata": {
        "colab": {
          "base_uri": "https://localhost:8080/"
        },
        "id": "-qWWC8clW9Cl",
        "outputId": "2ef91bda-c9bc-4766-93e1-61297f0fa348"
      },
      "source": [
        "from sklearn.cluster import AffinityPropagation\n",
        "# Compute Affinity Propagation\n",
        "af = AffinityPropagation(preference=-1.2, random_state=10,affinity='euclidean').fit(X_c)\n",
        "cluster_centers_indices = af.cluster_centers_indices_\n",
        "labels = af.labels_\n",
        "\n",
        "n_clusters_ = len(cluster_centers_indices)\n",
        "print(labels)\n",
        "\n",
        "print(\"Estimated number of clusters: %d\" % n_clusters_)\n",
        "print(\n",
        "    \"Silhouette Coefficient: %0.3f\"\n",
        "    % metrics.silhouette_score(X_c, labels, metric=\"sqeuclidean\")\n",
        ")"
      ],
      "execution_count": null,
      "outputs": [
        {
          "output_type": "stream",
          "name": "stdout",
          "text": [
            "[2 2 2 2 0 2 0 0 1 1 1 1 1 1 1 1 1 1 3 3 3 3 1 2 1 0 0 3 1 3 3 0 1 1 0 1 2\n",
            " 2 2 0 1 3 1 2 2 0 3 3 3 0 0 0 3 2 1 1 2 1 2 0 1 1 2 0 1 3 0 3 0 2 2 1 0 0\n",
            " 1 3 3 2 1 0 1 0 2 2 1 3 0 0 1 1 3 2 3 3 2 3 2 3 2 2 1 0 0 0 0 0 2 0 2 0 3\n",
            " 1 1 3 1 1 1 1 1 3 1 1 2 1 1 0 2 0 3 0 3 2 1 1 0 1 0 1 1 0 1 1 2 3 2 0 3 0\n",
            " 2 0 1 3 3 2 3 1 2 1 0 3 0 0 2 2 3 1 1 2 3 0 0 3 0 1 3 2 3 2 0 3 3 1 3 3 2\n",
            " 1 3 3 1 3 2 3 1 1 2 0 3 1 0 2 1 0 0 0 3 0 3 1 0 0 2 0 0 3 3 0 2 0 3 2 1 1\n",
            " 1 0 0 0 3 1 2 3 1 2 1 3 3 0 2 1 1 0 3 3 2 2 1 1 2 2 1 2 1 2 1 0 1 0 2 1 3\n",
            " 2 0 3 1 1 1 0 1 3 3 0 3 3 2 1 1 0 1 3 3 1 2 0 0 2 1 2 2 3 3 2 3 2 1 0 3 3\n",
            " 0 0 1 0 0 3 1 1 2]\n",
            "Estimated number of clusters: 4\n",
            "Silhouette Coefficient: 0.768\n"
          ]
        }
      ]
    }
  ]
}