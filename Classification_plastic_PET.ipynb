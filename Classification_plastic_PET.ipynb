{
  "nbformat": 4,
  "nbformat_minor": 0,
  "metadata": {
    "colab": {
      "name": "Test_plastic_PET.ipynb",
      "provenance": [],
      "collapsed_sections": [],
      "machine_shape": "hm",
      "include_colab_link": true
    },
    "kernelspec": {
      "name": "python3",
      "display_name": "Python 3"
    }
  },
  "cells": [
    {
      "cell_type": "markdown",
      "metadata": {
        "id": "view-in-github",
        "colab_type": "text"
      },
      "source": [
        "<a href=\"https://colab.research.google.com/github/hhchin1995/plastic-quality-clustering/blob/main/Classification_plastic_PET.ipynb\" target=\"_parent\"><img src=\"https://colab.research.google.com/assets/colab-badge.svg\" alt=\"Open In Colab\"/></a>"
      ]
    },
    {
      "cell_type": "markdown",
      "metadata": {
        "id": "0MRC0e0KhQ0S"
      },
      "source": [
        "# Decision Tree Classification"
      ]
    },
    {
      "cell_type": "markdown",
      "metadata": {
        "id": "LWd1UlMnhT2s"
      },
      "source": [
        "## Importing the libraries"
      ]
    },
    {
      "cell_type": "code",
      "metadata": {
        "id": "YvGPUQaHhXfL"
      },
      "source": [
        "import numpy as np\n",
        "import matplotlib.pyplot as plt\n",
        "import pandas as pd"
      ],
      "execution_count": null,
      "outputs": []
    },
    {
      "cell_type": "markdown",
      "metadata": {
        "id": "Ob7xZpOdM6Y2"
      },
      "source": [
        ""
      ]
    },
    {
      "cell_type": "markdown",
      "metadata": {
        "id": "K1VMqkGvhc3-"
      },
      "source": [
        "## Importing the dataset"
      ]
    },
    {
      "cell_type": "code",
      "metadata": {
        "id": "M52QDmyzhh9s",
        "colab": {
          "resources": {
            "http://localhost:8080/nbextensions/google.colab/files.js": {
              "data": "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",
              "ok": true,
              "headers": [
                [
                  "content-type",
                  "application/javascript"
                ]
              ],
              "status": 200,
              "status_text": ""
            }
          },
          "base_uri": "https://localhost:8080/",
          "height": 92
        },
        "outputId": "29cb02b5-1247-4647-dc85-8e283fde4293"
      },
      "source": [
        "from google.colab import files\n",
        "import io\n",
        "uploaded = files.upload()\n",
        "\n",
        "# dataset = pd.read_csv('PRES_plastic4-1.csv')\n",
        "dataset = pd.read_csv('Plastic_PET_All_2.csv')\n",
        "# PET\n",
        "# X = dataset.iloc[:-54, 2:4].values\n",
        "# y = dataset.iloc[:-54, 5].values\n",
        "\n",
        "# PE\n",
        "# X = dataset.iloc[15:-20, 2:5].values\n",
        "# X[:,1]=X[:,2]\n",
        "# X=X[:,:-1]\n",
        "# y = dataset.iloc[15:-20, 5].values\n",
        "\n",
        "# Two properties\n",
        "# X_d = dataset.iloc[:, 2:].values\n",
        "# X=np.zeros((X_d.shape[0],2))\n",
        "# X[:,0]=X_d[:,14]\n",
        "# X[:,1]=X_d[:,15]\n",
        "\n",
        "# y = dataset.iloc[:, 0].values\n",
        "\n",
        "# All properties\n",
        "X = dataset.iloc[:, 2:23].values\n",
        "\n",
        "y = dataset.iloc[:, 0].values\n",
        "\n",
        "# X=X[0:14]\n",
        "# y=y[0:14]\n",
        "\n",
        "print(X[26,:].shape)\n",
        "\n",
        "# PP\n",
        "# X = dataset.iloc[50:, 2:5].values\n",
        "# X[:,1]=X[:,2]\n",
        "# X=np.delete(X,8,0)\n",
        "# X=X[:,:-1]\n",
        "# y = dataset.iloc[50:, 5].values\n",
        "# y=np.delete(y,8,0)\n",
        "\n",
        "\n"
      ],
      "execution_count": null,
      "outputs": [
        {
          "output_type": "display_data",
          "data": {
            "text/html": [
              "\n",
              "     <input type=\"file\" id=\"files-749b8f9a-c3a3-42b9-be1d-0e328a62b1be\" name=\"files[]\" multiple disabled\n",
              "        style=\"border:none\" />\n",
              "     <output id=\"result-749b8f9a-c3a3-42b9-be1d-0e328a62b1be\">\n",
              "      Upload widget is only available when the cell has been executed in the\n",
              "      current browser session. Please rerun this cell to enable.\n",
              "      </output>\n",
              "      <script src=\"/nbextensions/google.colab/files.js\"></script> "
            ],
            "text/plain": [
              "<IPython.core.display.HTML object>"
            ]
          },
          "metadata": {}
        },
        {
          "output_type": "stream",
          "name": "stdout",
          "text": [
            "Saving Plastic_PET_All_2.csv to Plastic_PET_All_2 (2).csv\n",
            "(21,)\n"
          ]
        }
      ]
    },
    {
      "cell_type": "markdown",
      "metadata": {
        "id": "MPhH8cPDQEtl"
      },
      "source": [
        "Visualising training plot"
      ]
    },
    {
      "cell_type": "code",
      "metadata": {
        "id": "_TKo2wbeQFbg",
        "colab": {
          "base_uri": "https://localhost:8080/",
          "height": 295
        },
        "outputId": "3f5765ab-78c3-401d-8885-fbdbdb9e0143"
      },
      "source": [
        "# Visualising the clusters \n",
        "plt.scatter(X[y== 1, 0], X[y == 1, 1], s = 100, c = 'red', label = 'Cluster 1')\n",
        "plt.scatter(X[y == 2, 0], X[y == 2, 1], s = 100, c = 'blue', label = 'Cluster 2')\n",
        "plt.scatter(X[y == 3, 0], X[y == 3, 1], s = 100, c = 'green', label = 'Cluster 3')\n",
        "plt.scatter(X[y == 4, 0], X[y == 4, 1], s = 100, c = 'cyan', label = 'Cluster 4')\n",
        "plt.title('Classes of plastic waste')\n",
        "plt.xlabel('Metal concentration (ppm)')\n",
        "plt.ylabel('MFI ')\n",
        "plt.legend()\n",
        "plt.show()"
      ],
      "execution_count": null,
      "outputs": [
        {
          "output_type": "display_data",
          "data": {
            "image/png": "[encoded data removed]",
            "text/plain": [
              "<Figure size 432x288 with 1 Axes>"
            ]
          },
          "metadata": {
            "needs_background": "light"
          }
        }
      ]
    },
    {
      "cell_type": "markdown",
      "metadata": {
        "id": "YvxIPVyMhmKp"
      },
      "source": [
        "## Splitting the dataset into the Training set and Test set"
      ]
    },
    {
      "cell_type": "code",
      "metadata": {
        "id": "AVzJWAXIhxoC",
        "colab": {
          "base_uri": "https://localhost:8080/"
        },
        "outputId": "5aca0bff-d93f-4f74-8e99-dd1dc218dd5e"
      },
      "source": [
        "\n",
        "# features=['Metals','MFI']\n",
        "features=['As','Cd','Co','Cr','Cu','Fe','Hg','Li','Mn','Ni','Pb','Sb','Ti','Zn','Al','IV','Tensile','Paper','Cardboards','Food residues','Others']\n",
        "classes=['Virgin','Industrial','Household','Waste']\n",
        "from sklearn.model_selection import train_test_split\n",
        "X_train, X_test, y_train, y_test = train_test_split(X, y, test_size = 0.35, random_state = 10) # PE: Use 0.2 test size, random_state=10 (After SMOTE: 0.45,10)\n",
        "                                                                                              # PP: Use 0.4 and 0.5, random state=10\n",
        "                                                                                              # PET: Use  0.5, random state=10\n",
        "\n",
        "print(X_train)\n",
        "print(y_train)"
      ],
      "execution_count": null,
      "outputs": [
        {
          "output_type": "stream",
          "name": "stdout",
          "text": [
            "[[0.03       0.03       0.34168319 ... 2.88154847 1.2670149  2.        ]\n",
            " [0.03       0.03       0.27804569 ... 2.70735893 1.27146183 2.        ]\n",
            " [0.4624356  0.03772798 2.96232183 ... 6.10887013 1.08394727 2.06896816]\n",
            " ...\n",
            " [0.03       0.03       0.21       ... 4.49722704 1.         2.        ]\n",
            " [0.03       0.03       0.32211003 ... 2.50096572 1.22928939 2.        ]\n",
            " [0.03       0.03       0.36199419 ... 2.91064117 1.22305131 2.        ]]\n",
            "[2 2 4 2 3 1 1 3 4 2 4 3 3 3 4 1 4 1 4 3 4 1 1 2 4 4 2 4 2 4 1 3 1 3 4 2 2\n",
            " 2 2 3 1 4 4 3 1 4 4 1 2 1 2 4 3 2 2 3 1 3 3 3 4 4 1 2 3 1 1 2 3 4 4 1 2 1\n",
            " 4 1 3 4 2 1 3 2 3 2 4 1 2 4 3 1 3 3 3 2 2 1 2 4 3 4 2 2 2 3 1 1 3 1 1 4 4\n",
            " 1 4 3 4 3 2 4 2 2 2 1 2 1 4 3 4 3 1 3 4 1 1 3 3 4 4 4 4 3 2 3 3 4 3 4 4 3\n",
            " 2 3 3 3 1 2 3 1 2 2 1 1 4 1 3 2 4 2 2 2 4 4 1 1 4 2 2 3 4 2 2 4 4 2 1 2 4\n",
            " 4 2 1 3 4 1 4 3 2 3 1 2 2]\n"
          ]
        }
      ]
    },
    {
      "cell_type": "markdown",
      "metadata": {
        "id": "Q988Az3vbbeR"
      },
      "source": [
        "**Oversampling (Create additional datapoints) OR Undersampling (clean data)**"
      ]
    },
    {
      "cell_type": "code",
      "metadata": {
        "colab": {
          "base_uri": "https://localhost:8080/"
        },
        "id": "n6LXKRIkbaQ0",
        "outputId": "553053ab-be3a-4996-e4e3-2453c7e89196"
      },
      "source": [
        "from imblearn.over_sampling import SMOTE\n",
        "\n",
        "# Oversample using SMOTE\n",
        "sm = SMOTE(k_neighbors=3,random_state=42)\n",
        "#X_train, y_train = sm.fit_resample(X_train, y_train)\n",
        "\n",
        "from imblearn.combine import SMOTEENN\n",
        "\n",
        "smoteenn = SMOTEENN(random_state=42)\n",
        "# X_train, y_train = smoteenn.fit_resample(X_train, y_train)\n",
        "\n",
        "print(y_train)\n"
      ],
      "execution_count": null,
      "outputs": [
        {
          "output_type": "stream",
          "name": "stdout",
          "text": [
            "[1 1 4 3 2 2 2 3 1 1 2 2 2 3 4 4 2 3 1 1 1 2 4 3 2 3 1 3 2 1 4 2 4 2 2 2 4\n",
            " 4 4 4 4 4 1 4 2 2 4 1 1 2 3 2 3 3 1 2 1 4 4 3 4 1 2 4 4 2 3 1 4 2 4 3 1 1\n",
            " 3 2 4 4 4 1 2 2 3 4 3 2 4 2 3 1 1 2 1 2 4 3 4 1 4 2 2 2 4 3 4 2 4 2 4 2 4\n",
            " 4 2 2 1 2 2 4 1 1 3 2 1 2 2 2 3 3 4 2 3 3 4 1 3 2 4 4 3 2 2 1 4 2 2 4 4 1\n",
            " 4 1 1 2 2 2 2 4 4 2 3 4 4 3 2 3 4 3 1]\n"
          ]
        }
      ]
    },
    {
      "cell_type": "markdown",
      "metadata": {
        "id": "4cs1PwBqhYOO"
      },
      "source": [
        "**Custom Sampling + Oversampling**"
      ]
    },
    {
      "cell_type": "code",
      "metadata": {
        "colab": {
          "base_uri": "https://localhost:8080/"
        },
        "id": "i--VjM4Ghchx",
        "outputId": "3b847928-e67a-4332-f34f-f8eab1605faf"
      },
      "source": [
        "from sklearn.preprocessing import StandardScaler\n",
        "from sklearn.neighbors import KNeighborsClassifier\n",
        "from imblearn.over_sampling import SMOTE\n",
        "\n",
        "# Scale Features\n",
        "scaler = StandardScaler()\n",
        "x_train_scaled = scaler.fit_transform(X_train)\n",
        "\n",
        "# Fit KNN\n",
        "knn = KNeighborsClassifier(n_neighbors=4)\n",
        "knn.fit(x_train_scaled, y_train)\n",
        "preds = pd.DataFrame(knn.predict_proba(x_train_scaled))\n",
        "\n",
        "preds.columns = ['label_0', 'label_1','label_2','label_3']\n",
        "\n",
        "# Bind defaulted label proba to train dataset\n",
        "# print(preds.iloc[1,2])\n",
        "\n",
        "y_prob=np.zeros((len(y_train),1))\n",
        "for i in range(0,len(y_train)):\n",
        "  y_prob[i]=preds.iloc[i,int(y_train[i])-1]\n",
        "\n",
        "#print(y_prob)\n",
        "# X_train['knn_minority_class_proba'] = preds['label_1']\n",
        "\n",
        "x_train_filtered=np.zeros(X_train.shape)\n",
        "y_train_filtered=np.zeros(X_train.shape[0])\n",
        "\n",
        "for ii in range(0,len(y_train_filtered)):\n",
        "  if y_prob[ii]>=0.5:\n",
        "    x_train_filtered[ii,:] = X_train[ii,:]\n",
        "    y_train_filtered[ii] = y_train[ii]\n",
        "\n",
        "x_train_filtered=x_train_filtered[np.all(x_train_filtered >0, axis=1), :]\n",
        "y_train_filtered=y_train_filtered[y_train_filtered >0]\n",
        "\n",
        "\n",
        "# Oversample using SMOTE\n",
        "sm = SMOTE(k_neighbors=1,random_state=40)\n",
        "X_train, y_train = sm.fit_resample(x_train_filtered, y_train_filtered)\n",
        "\n",
        "print(y_train)"
      ],
      "execution_count": null,
      "outputs": [
        {
          "output_type": "stream",
          "name": "stdout",
          "text": [
            "[2. 2. 4. 2. 3. 1. 3. 4. 2. 4. 3. 3. 3. 4. 1. 4. 1. 4. 3. 4. 1. 1. 2. 4.\n",
            " 4. 2. 4. 2. 4. 1. 3. 1. 3. 4. 2. 2. 2. 2. 3. 1. 4. 4. 3. 1. 4. 4. 1. 2.\n",
            " 1. 2. 4. 3. 2. 2. 3. 1. 3. 3. 3. 4. 4. 1. 2. 3. 1. 1. 2. 3. 4. 4. 1. 2.\n",
            " 1. 4. 1. 3. 4. 2. 1. 3. 2. 3. 2. 4. 1. 2. 4. 3. 1. 3. 3. 3. 2. 2. 1. 2.\n",
            " 4. 3. 4. 2. 2. 2. 3. 1. 1. 3. 1. 1. 4. 4. 1. 4. 3. 4. 3. 2. 4. 2. 2. 2.\n",
            " 1. 2. 1. 4. 3. 4. 3. 1. 3. 4. 1. 1. 3. 3. 4. 4. 4. 4. 3. 2. 3. 3. 4. 3.\n",
            " 4. 4. 3. 2. 3. 3. 3. 1. 2. 3. 1. 2. 2. 1. 1. 4. 1. 3. 2. 4. 2. 2. 2. 4.\n",
            " 4. 1. 1. 4. 2. 2. 3. 4. 2. 2. 4. 4. 2. 1. 2. 4. 4. 2. 1. 3. 4. 1. 4. 3.\n",
            " 2. 3. 1. 2. 2. 1. 1. 1. 1. 1. 1. 1. 1. 1. 1. 1. 2. 2. 3. 3. 3. 3. 3. 3.]\n"
          ]
        }
      ]
    },
    {
      "cell_type": "code",
      "metadata": {
        "colab": {
          "base_uri": "https://localhost:8080/",
          "height": 295
        },
        "id": "j6Fw3ZNs5g0D",
        "outputId": "0d607304-f36c-440e-a199-c9413cceddd6"
      },
      "source": [
        "# Visualising the clusters \n",
        "plt.scatter(X_train[y_train== 1, 0], X_train[y_train == 1, 1], s = 100, c = 'red', label = 'Cluster 1')\n",
        "plt.scatter(X_train[y_train == 2, 0], X_train[y_train == 2, 1], s = 100, c = 'blue', label = 'Cluster 2')\n",
        "plt.scatter(X_train[y_train == 3, 0], X_train[y_train == 3, 1], s = 100, c = 'green', label = 'Cluster 3')\n",
        "plt.scatter(X_train[y_train == 4, 0], X_train[y_train == 4, 1], s = 100, c = 'cyan', label = 'Cluster 4')\n",
        "plt.title('Classes of plastic waste')\n",
        "plt.xlabel('Metal concentration (ppm)')\n",
        "plt.ylabel('MFI ')\n",
        "plt.legend()\n",
        "plt.show()"
      ],
      "execution_count": null,
      "outputs": [
        {
          "output_type": "display_data",
          "data": {
            "image/png": "[encoded data removed]",
            "text/plain": [
              "<Figure size 432x288 with 1 Axes>"
            ]
          },
          "metadata": {
            "needs_background": "light"
          }
        }
      ]
    },
    {
      "cell_type": "markdown",
      "metadata": {
        "id": "kW3c7UYih0hT"
      },
      "source": [
        "## Feature Scaling"
      ]
    },
    {
      "cell_type": "code",
      "metadata": {
        "id": "9fQlDPKCh8sc",
        "colab": {
          "base_uri": "https://localhost:8080/"
        },
        "outputId": "9d42877b-2adc-4da8-972c-97a4c473d0ac"
      },
      "source": [
        "from sklearn.preprocessing import StandardScaler\n",
        "sc = StandardScaler()\n",
        "X_train = sc.fit_transform(X_train)\n",
        "X_test = sc.transform(X_test)\n",
        "\n",
        "print(X_test)\n",
        "\n",
        "print(y_test)\n"
      ],
      "execution_count": null,
      "outputs": [
        {
          "output_type": "stream",
          "name": "stdout",
          "text": [
            "[[-0.46398744 -0.43333505 -0.80457556 ... -1.2488604   1.12751657\n",
            "  -0.51518032]\n",
            " [-0.46398744 -0.43333505 -0.84957711 ... -0.04245233 -1.19877561\n",
            "  -0.51518032]\n",
            " [ 2.6073114   2.12366791 -0.67022906 ...  1.27807509 -0.93889586\n",
            "   2.69969079]\n",
            " ...\n",
            " [ 1.42049447  0.00826841  0.09346996 ...  1.55932455 -0.8785761\n",
            "   1.47137386]\n",
            " [-0.46398744 -0.43333505  1.52887116 ... -0.04017446  0.48101805\n",
            "  -0.51518032]\n",
            " [-0.46398744 -0.43333505  0.9491963  ...  0.09524853  0.73308005\n",
            "  -0.51518032]]\n",
            "[2 1 4 3 4 2 2 2 3 3 4 3 1 1 3 3 3 2 3 1 3 1 1 3 4 4 2 1 4 3 4 3 2 4 4 1 2\n",
            " 1 1 4 3 3 2 1 4 3 1 2 3 4 4 1 3 3 4 4 2 3 4 3 2 4 1 2 1 3 1 4 1 2 3 1 4 1\n",
            " 2 1 3 4 2 1 1 2 3 2 2 1 1 2 4 1 3 4 1 3 1 2 2 2 4 3 2 4 3 2 4 3 3]\n"
          ]
        }
      ]
    },
    {
      "cell_type": "markdown",
      "metadata": {
        "id": "bb6jCOCQiAmP"
      },
      "source": [
        "## Training the Decision Tree Classification model on the Training set"
      ]
    },
    {
      "cell_type": "code",
      "metadata": {
        "id": "e0pFVAmciHQs",
        "colab": {
          "base_uri": "https://localhost:8080/",
          "height": 799
        },
        "outputId": "417d2ac2-72ae-4ffd-aba0-1d5ed46d5f2f"
      },
      "source": [
        "features=['As','Cd','Co','Cr','Cu','Fe','Hg','Li','Mn','Ni','Pb','Sb','Ti','Zn','Al','IV','Tensile','Paper','Cardboards','Food residues','Others']\n",
        "#graph.render(\"iris\") \n",
        "\n",
        "from sklearn.tree import DecisionTreeClassifier\n",
        "from sklearn.tree import export_text\n",
        "from sklearn import tree\n",
        "classifier = DecisionTreeClassifier(criterion = 'entropy', random_state = 25,max_features=2,max_depth=3) #PE Random_state = 25,  #PP Random_state = 0. #PET Random_state=25\n",
        "classifier.fit(X_train, y_train)\n",
        "#tree.plot_tree(classifier)\n",
        "\n",
        "r=export_text(classifier,feature_names=features)\n",
        "print(r)\n",
        "\n",
        "\n",
        "\n",
        "\n",
        "import graphviz \n",
        "dot_data = tree.export_graphviz(classifier, out_file=None, \n",
        "                     feature_names=features,  \n",
        "                      class_names=classes,  \n",
        "                      filled=True, rounded=True,  \n",
        "                     special_characters=True)  \n",
        "graph = graphviz.Source(dot_data) \n",
        "graph\n",
        "\n"
      ],
      "execution_count": null,
      "outputs": [
        {
          "output_type": "stream",
          "name": "stdout",
          "text": [
            "|--- IV <= 0.60\n",
            "|   |--- class: 4.0\n",
            "|--- IV >  0.60\n",
            "|   |--- Sb <= 186.50\n",
            "|   |   |--- class: 2.0\n",
            "|   |--- Sb >  186.50\n",
            "|   |   |--- Co <= 1.67\n",
            "|   |   |   |--- class: 1.0\n",
            "|   |   |--- Co >  1.67\n",
            "|   |   |   |--- class: 3.0\n",
            "\n"
          ]
        },
        {
          "output_type": "execute_result",
          "data": {
            "text/plain": [
              "<graphviz.files.Source at 0x7fe317e15a10>"
            ],
            "image/svg+xml": "<?xml version=\"1.0\" encoding=\"UTF-8\" standalone=\"no\"?>\n<!DOCTYPE svg PUBLIC \"-//W3C//DTD SVG 1.1//EN\"\n \"http://www.w3.org/Graphics/SVG/1.1/DTD/svg11.dtd\">\n<!-- Generated by graphviz version 2.40.1 (20161225.0304)\n -->\n<!-- Title: Tree Pages: 1 -->\n<svg width=\"470pt\" height=\"433pt\"\n viewBox=\"0.00 0.00 470.00 433.00\" xmlns=\"http://www.w3.org/2000/svg\" xmlns:xlink=\"http://www.w3.org/1999/xlink\">\n<g id=\"graph0\" class=\"graph\" transform=\"scale(1 1) rotate(0) translate(4 429)\">\n<title>Tree</title>\n<polygon fill=\"#ffffff\" stroke=\"transparent\" points=\"-4,4 -4,-429 466,-429 466,4 -4,4\"/>\n<!-- 0 -->\n<g id=\"node1\" class=\"node\">\n<title>0</title>\n<path fill=\"#ffffff\" stroke=\"#000000\" d=\"M221.5,-425C221.5,-425 81.5,-425 81.5,-425 75.5,-425 69.5,-419 69.5,-413 69.5,-413 69.5,-354 69.5,-354 69.5,-348 75.5,-342 81.5,-342 81.5,-342 221.5,-342 221.5,-342 227.5,-342 233.5,-348 233.5,-354 233.5,-354 233.5,-413 233.5,-413 233.5,-419 227.5,-425 221.5,-425\"/>\n<text text-anchor=\"start\" x=\"118.5\" y=\"-409.8\" font-family=\"Helvetica,sans-Serif\" font-size=\"14.00\" fill=\"#000000\">IV ≤ 0.598</text>\n<text text-anchor=\"start\" x=\"109\" y=\"-394.8\" font-family=\"Helvetica,sans-Serif\" font-size=\"14.00\" fill=\"#000000\">entropy = 2.0</text>\n<text text-anchor=\"start\" x=\"103.5\" y=\"-379.8\" font-family=\"Helvetica,sans-Serif\" font-size=\"14.00\" fill=\"#000000\">samples = 216</text>\n<text text-anchor=\"start\" x=\"77.5\" y=\"-364.8\" font-family=\"Helvetica,sans-Serif\" font-size=\"14.00\" fill=\"#000000\">value = [54, 54, 54, 54]</text>\n<text text-anchor=\"start\" x=\"108\" y=\"-349.8\" font-family=\"Helvetica,sans-Serif\" font-size=\"14.00\" fill=\"#000000\">class = Virgin</text>\n</g>\n<!-- 1 -->\n<g id=\"node2\" class=\"node\">\n<title>1</title>\n<path fill=\"#d739e5\" stroke=\"#000000\" d=\"M127,-298.5C127,-298.5 12,-298.5 12,-298.5 6,-298.5 0,-292.5 0,-286.5 0,-286.5 0,-242.5 0,-242.5 0,-236.5 6,-230.5 12,-230.5 12,-230.5 127,-230.5 127,-230.5 133,-230.5 139,-236.5 139,-242.5 139,-242.5 139,-286.5 139,-286.5 139,-292.5 133,-298.5 127,-298.5\"/>\n<text text-anchor=\"start\" x=\"27\" y=\"-283.3\" font-family=\"Helvetica,sans-Serif\" font-size=\"14.00\" fill=\"#000000\">entropy = 0.0</text>\n<text text-anchor=\"start\" x=\"25.5\" y=\"-268.3\" font-family=\"Helvetica,sans-Serif\" font-size=\"14.00\" fill=\"#000000\">samples = 54</text>\n<text text-anchor=\"start\" x=\"8\" y=\"-253.3\" font-family=\"Helvetica,sans-Serif\" font-size=\"14.00\" fill=\"#000000\">value = [0, 0, 0, 54]</text>\n<text text-anchor=\"start\" x=\"24\" y=\"-238.3\" font-family=\"Helvetica,sans-Serif\" font-size=\"14.00\" fill=\"#000000\">class = Waste</text>\n</g>\n<!-- 0&#45;&gt;1 -->\n<g id=\"edge1\" class=\"edge\">\n<title>0&#45;&gt;1</title>\n<path fill=\"none\" stroke=\"#000000\" d=\"M122.8204,-341.8796C115.0917,-330.6636 106.7191,-318.5131 98.9492,-307.2372\"/>\n<polygon fill=\"#000000\" stroke=\"#000000\" points=\"101.7018,-305.0634 93.1456,-298.8149 95.9377,-309.0353 101.7018,-305.0634\"/>\n<text text-anchor=\"middle\" x=\"88.6196\" y=\"-319.7018\" font-family=\"Helvetica,sans-Serif\" font-size=\"14.00\" fill=\"#000000\">True</text>\n</g>\n<!-- 2 -->\n<g id=\"node3\" class=\"node\">\n<title>2</title>\n<path fill=\"#ffffff\" stroke=\"#000000\" d=\"M300,-306C300,-306 169,-306 169,-306 163,-306 157,-300 157,-294 157,-294 157,-235 157,-235 157,-229 163,-223 169,-223 169,-223 300,-223 300,-223 306,-223 312,-229 312,-235 312,-235 312,-294 312,-294 312,-300 306,-306 300,-306\"/>\n<text text-anchor=\"start\" x=\"199.5\" y=\"-290.8\" font-family=\"Helvetica,sans-Serif\" font-size=\"14.00\" fill=\"#000000\">Sb ≤ 186.5</text>\n<text text-anchor=\"start\" x=\"183.5\" y=\"-275.8\" font-family=\"Helvetica,sans-Serif\" font-size=\"14.00\" fill=\"#000000\">entropy = 1.585</text>\n<text text-anchor=\"start\" x=\"186.5\" y=\"-260.8\" font-family=\"Helvetica,sans-Serif\" font-size=\"14.00\" fill=\"#000000\">samples = 162</text>\n<text text-anchor=\"start\" x=\"165\" y=\"-245.8\" font-family=\"Helvetica,sans-Serif\" font-size=\"14.00\" fill=\"#000000\">value = [54, 54, 54, 0]</text>\n<text text-anchor=\"start\" x=\"191\" y=\"-230.8\" font-family=\"Helvetica,sans-Serif\" font-size=\"14.00\" fill=\"#000000\">class = Virgin</text>\n</g>\n<!-- 0&#45;&gt;2 -->\n<g id=\"edge2\" class=\"edge\">\n<title>0&#45;&gt;2</title>\n<path fill=\"none\" stroke=\"#000000\" d=\"M180.5294,-341.8796C186.6855,-333.0534 193.2451,-323.6485 199.5936,-314.5466\"/>\n<polygon fill=\"#000000\" stroke=\"#000000\" points=\"202.4967,-316.5024 205.3467,-306.2981 196.7552,-312.4978 202.4967,-316.5024\"/>\n<text text-anchor=\"middle\" x=\"209.7331\" y=\"-327.2103\" font-family=\"Helvetica,sans-Serif\" font-size=\"14.00\" fill=\"#000000\">False</text>\n</g>\n<!-- 3 -->\n<g id=\"node4\" class=\"node\">\n<title>3</title>\n<path fill=\"#47e539\" stroke=\"#000000\" d=\"M211,-179.5C211,-179.5 96,-179.5 96,-179.5 90,-179.5 84,-173.5 84,-167.5 84,-167.5 84,-123.5 84,-123.5 84,-117.5 90,-111.5 96,-111.5 96,-111.5 211,-111.5 211,-111.5 217,-111.5 223,-117.5 223,-123.5 223,-123.5 223,-167.5 223,-167.5 223,-173.5 217,-179.5 211,-179.5\"/>\n<text text-anchor=\"start\" x=\"111\" y=\"-164.3\" font-family=\"Helvetica,sans-Serif\" font-size=\"14.00\" fill=\"#000000\">entropy = 0.0</text>\n<text text-anchor=\"start\" x=\"109.5\" y=\"-149.3\" font-family=\"Helvetica,sans-Serif\" font-size=\"14.00\" fill=\"#000000\">samples = 54</text>\n<text text-anchor=\"start\" x=\"92\" y=\"-134.3\" font-family=\"Helvetica,sans-Serif\" font-size=\"14.00\" fill=\"#000000\">value = [0, 54, 0, 0]</text>\n<text text-anchor=\"start\" x=\"99\" y=\"-119.3\" font-family=\"Helvetica,sans-Serif\" font-size=\"14.00\" fill=\"#000000\">class = Industrial</text>\n</g>\n<!-- 2&#45;&gt;3 -->\n<g id=\"edge3\" class=\"edge\">\n<title>2&#45;&gt;3</title>\n<path fill=\"none\" stroke=\"#000000\" d=\"M206.1701,-222.8796C198.5357,-211.6636 190.2652,-199.5131 182.5901,-188.2372\"/>\n<polygon fill=\"#000000\" stroke=\"#000000\" points=\"185.3775,-186.1122 176.8572,-179.8149 179.5908,-190.0511 185.3775,-186.1122\"/>\n</g>\n<!-- 4 -->\n<g id=\"node5\" class=\"node\">\n<title>4</title>\n<path fill=\"#ffffff\" stroke=\"#000000\" d=\"M376,-187C376,-187 253,-187 253,-187 247,-187 241,-181 241,-175 241,-175 241,-116 241,-116 241,-110 247,-104 253,-104 253,-104 376,-104 376,-104 382,-104 388,-110 388,-116 388,-116 388,-175 388,-175 388,-181 382,-187 376,-187\"/>\n<text text-anchor=\"start\" x=\"283\" y=\"-171.8\" font-family=\"Helvetica,sans-Serif\" font-size=\"14.00\" fill=\"#000000\">Co ≤ 1.67</text>\n<text text-anchor=\"start\" x=\"272\" y=\"-156.8\" font-family=\"Helvetica,sans-Serif\" font-size=\"14.00\" fill=\"#000000\">entropy = 1.0</text>\n<text text-anchor=\"start\" x=\"266.5\" y=\"-141.8\" font-family=\"Helvetica,sans-Serif\" font-size=\"14.00\" fill=\"#000000\">samples = 108</text>\n<text text-anchor=\"start\" x=\"249\" y=\"-126.8\" font-family=\"Helvetica,sans-Serif\" font-size=\"14.00\" fill=\"#000000\">value = [54, 0, 54, 0]</text>\n<text text-anchor=\"start\" x=\"271\" y=\"-111.8\" font-family=\"Helvetica,sans-Serif\" font-size=\"14.00\" fill=\"#000000\">class = Virgin</text>\n</g>\n<!-- 2&#45;&gt;4 -->\n<g id=\"edge4\" class=\"edge\">\n<title>2&#45;&gt;4</title>\n<path fill=\"none\" stroke=\"#000000\" d=\"M262.4801,-222.8796C268.3531,-214.1434 274.6073,-204.8404 280.6679,-195.8253\"/>\n<polygon fill=\"#000000\" stroke=\"#000000\" points=\"283.7259,-197.5498 286.4005,-187.2981 277.9166,-193.6444 283.7259,-197.5498\"/>\n</g>\n<!-- 5 -->\n<g id=\"node6\" class=\"node\">\n<title>5</title>\n<path fill=\"#e58139\" stroke=\"#000000\" d=\"M293,-68C293,-68 178,-68 178,-68 172,-68 166,-62 166,-56 166,-56 166,-12 166,-12 166,-6 172,0 178,0 178,0 293,0 293,0 299,0 305,-6 305,-12 305,-12 305,-56 305,-56 305,-62 299,-68 293,-68\"/>\n<text text-anchor=\"start\" x=\"193\" y=\"-52.8\" font-family=\"Helvetica,sans-Serif\" font-size=\"14.00\" fill=\"#000000\">entropy = 0.0</text>\n<text text-anchor=\"start\" x=\"191.5\" y=\"-37.8\" font-family=\"Helvetica,sans-Serif\" font-size=\"14.00\" fill=\"#000000\">samples = 54</text>\n<text text-anchor=\"start\" x=\"174\" y=\"-22.8\" font-family=\"Helvetica,sans-Serif\" font-size=\"14.00\" fill=\"#000000\">value = [54, 0, 0, 0]</text>\n<text text-anchor=\"start\" x=\"192\" y=\"-7.8\" font-family=\"Helvetica,sans-Serif\" font-size=\"14.00\" fill=\"#000000\">class = Virgin</text>\n</g>\n<!-- 4&#45;&gt;5 -->\n<g id=\"edge5\" class=\"edge\">\n<title>4&#45;&gt;5</title>\n<path fill=\"none\" stroke=\"#000000\" d=\"M285.0833,-103.9815C278.7669,-95.0666 272.0818,-85.6313 265.7349,-76.6734\"/>\n<polygon fill=\"#000000\" stroke=\"#000000\" points=\"268.4136,-74.3998 259.7765,-68.2637 262.7019,-78.4466 268.4136,-74.3998\"/>\n</g>\n<!-- 6 -->\n<g id=\"node7\" class=\"node\">\n<title>6</title>\n<path fill=\"#399de5\" stroke=\"#000000\" d=\"M450,-68C450,-68 335,-68 335,-68 329,-68 323,-62 323,-56 323,-56 323,-12 323,-12 323,-6 329,0 335,0 335,0 450,0 450,0 456,0 462,-6 462,-12 462,-12 462,-56 462,-56 462,-62 456,-68 450,-68\"/>\n<text text-anchor=\"start\" x=\"350\" y=\"-52.8\" font-family=\"Helvetica,sans-Serif\" font-size=\"14.00\" fill=\"#000000\">entropy = 0.0</text>\n<text text-anchor=\"start\" x=\"348.5\" y=\"-37.8\" font-family=\"Helvetica,sans-Serif\" font-size=\"14.00\" fill=\"#000000\">samples = 54</text>\n<text text-anchor=\"start\" x=\"331\" y=\"-22.8\" font-family=\"Helvetica,sans-Serif\" font-size=\"14.00\" fill=\"#000000\">value = [0, 0, 54, 0]</text>\n<text text-anchor=\"start\" x=\"332\" y=\"-7.8\" font-family=\"Helvetica,sans-Serif\" font-size=\"14.00\" fill=\"#000000\">class = Household</text>\n</g>\n<!-- 4&#45;&gt;6 -->\n<g id=\"edge6\" class=\"edge\">\n<title>4&#45;&gt;6</title>\n<path fill=\"none\" stroke=\"#000000\" d=\"M343.5443,-103.9815C349.7808,-95.0666 356.3813,-85.6313 362.6478,-76.6734\"/>\n<polygon fill=\"#000000\" stroke=\"#000000\" points=\"365.6665,-78.464 368.5308,-68.2637 359.9307,-74.4515 365.6665,-78.464\"/>\n</g>\n</g>\n</svg>\n"
          },
          "metadata": {},
          "execution_count": 22
        }
      ]
    },
    {
      "cell_type": "code",
      "metadata": {
        "colab": {
          "base_uri": "https://localhost:8080/",
          "height": 440
        },
        "id": "caSV9D8d1BDF",
        "outputId": "4757eaaf-4a04-4e23-9bf1-4ab1157978c8"
      },
      "source": [
        "# Training the Random Forest Classification model on the Training set\n",
        "from sklearn.ensemble import RandomForestClassifier\n",
        "classifier2 = RandomForestClassifier(n_estimators = 50, criterion = 'entropy', random_state = 25,max_features=2,max_depth=2) #PE Random_state = 50, trees=100\n",
        "                                                                                                  # PP Random_state=0, trees=100\n",
        "                                                                                                  # PET Random_state=25, trees=100\n",
        "                                                                                         \n",
        "classifier2.fit(X_train, y_train)\n",
        "estimator=classifier2.estimators_[5]\n",
        "\n",
        "dot_data2 = tree.export_graphviz(estimator, out_file=None, \n",
        "                     feature_names=features,  \n",
        "                      class_names=classes,  \n",
        "                      filled=True, rounded=True,  \n",
        "                     special_characters=True)  \n",
        "graph2 = graphviz.Source(dot_data2) \n",
        "graph2"
      ],
      "execution_count": null,
      "outputs": [
        {
          "output_type": "execute_result",
          "data": {
            "text/plain": [
              "<graphviz.files.Source at 0x7fe2f653d2d0>"
            ],
            "image/svg+xml": "<?xml version=\"1.0\" encoding=\"UTF-8\" standalone=\"no\"?>\n<!DOCTYPE svg PUBLIC \"-//W3C//DTD SVG 1.1//EN\"\n \"http://www.w3.org/Graphics/SVG/1.1/DTD/svg11.dtd\">\n<!-- Generated by graphviz version 2.40.1 (20161225.0304)\n -->\n<!-- Title: Tree Pages: 1 -->\n<svg width=\"625pt\" height=\"314pt\"\n viewBox=\"0.00 0.00 625.00 314.00\" xmlns=\"http://www.w3.org/2000/svg\" xmlns:xlink=\"http://www.w3.org/1999/xlink\">\n<g id=\"graph0\" class=\"graph\" transform=\"scale(1 1) rotate(0) translate(4 310)\">\n<title>Tree</title>\n<polygon fill=\"#ffffff\" stroke=\"transparent\" points=\"-4,4 -4,-310 621,-310 621,4 -4,4\"/>\n<!-- 0 -->\n<g id=\"node1\" class=\"node\">\n<title>0</title>\n<path fill=\"#f8fef8\" stroke=\"#000000\" d=\"M378.5,-306C378.5,-306 238.5,-306 238.5,-306 232.5,-306 226.5,-300 226.5,-294 226.5,-294 226.5,-235 226.5,-235 226.5,-229 232.5,-223 238.5,-223 238.5,-223 378.5,-223 378.5,-223 384.5,-223 390.5,-229 390.5,-235 390.5,-235 390.5,-294 390.5,-294 390.5,-300 384.5,-306 378.5,-306\"/>\n<text text-anchor=\"start\" x=\"273.5\" y=\"-290.8\" font-family=\"Helvetica,sans-Serif\" font-size=\"14.00\" fill=\"#000000\">Pb ≤ 0.184</text>\n<text text-anchor=\"start\" x=\"257.5\" y=\"-275.8\" font-family=\"Helvetica,sans-Serif\" font-size=\"14.00\" fill=\"#000000\">entropy = 1.988</text>\n<text text-anchor=\"start\" x=\"260.5\" y=\"-260.8\" font-family=\"Helvetica,sans-Serif\" font-size=\"14.00\" fill=\"#000000\">samples = 134</text>\n<text text-anchor=\"start\" x=\"234.5\" y=\"-245.8\" font-family=\"Helvetica,sans-Serif\" font-size=\"14.00\" fill=\"#000000\">value = [57, 63, 44, 52]</text>\n<text text-anchor=\"start\" x=\"254\" y=\"-230.8\" font-family=\"Helvetica,sans-Serif\" font-size=\"14.00\" fill=\"#000000\">class = Industrial</text>\n</g>\n<!-- 1 -->\n<g id=\"node2\" class=\"node\">\n<title>1</title>\n<path fill=\"#c8f7c3\" stroke=\"#000000\" d=\"M291,-187C291,-187 154,-187 154,-187 148,-187 142,-181 142,-175 142,-175 142,-116 142,-116 142,-110 148,-104 154,-104 154,-104 291,-104 291,-104 297,-104 303,-110 303,-116 303,-116 303,-175 303,-175 303,-181 297,-187 291,-187\"/>\n<text text-anchor=\"start\" x=\"150\" y=\"-171.8\" font-family=\"Helvetica,sans-Serif\" font-size=\"14.00\" fill=\"#000000\">Food residues ≤ 1.199</text>\n<text text-anchor=\"start\" x=\"171.5\" y=\"-156.8\" font-family=\"Helvetica,sans-Serif\" font-size=\"14.00\" fill=\"#000000\">entropy = 0.977</text>\n<text text-anchor=\"start\" x=\"178.5\" y=\"-141.8\" font-family=\"Helvetica,sans-Serif\" font-size=\"14.00\" fill=\"#000000\">samples = 66</text>\n<text text-anchor=\"start\" x=\"157\" y=\"-126.8\" font-family=\"Helvetica,sans-Serif\" font-size=\"14.00\" fill=\"#000000\">value = [0, 63, 44, 0]</text>\n<text text-anchor=\"start\" x=\"168\" y=\"-111.8\" font-family=\"Helvetica,sans-Serif\" font-size=\"14.00\" fill=\"#000000\">class = Industrial</text>\n</g>\n<!-- 0&#45;&gt;1 -->\n<g id=\"edge1\" class=\"edge\">\n<title>0&#45;&gt;1</title>\n<path fill=\"none\" stroke=\"#000000\" d=\"M278.4214,-222.8796C272.0428,-214.0534 265.246,-204.6485 258.6681,-195.5466\"/>\n<polygon fill=\"#000000\" stroke=\"#000000\" points=\"261.4012,-193.353 252.707,-187.2981 255.7277,-197.4532 261.4012,-193.353\"/>\n<text text-anchor=\"middle\" x=\"248.7338\" y=\"-208.2803\" font-family=\"Helvetica,sans-Serif\" font-size=\"14.00\" fill=\"#000000\">True</text>\n</g>\n<!-- 4 -->\n<g id=\"node5\" class=\"node\">\n<title>4</title>\n<path fill=\"#fdf4ee\" stroke=\"#000000\" d=\"M456,-187C456,-187 333,-187 333,-187 327,-187 321,-181 321,-175 321,-175 321,-116 321,-116 321,-110 327,-104 333,-104 333,-104 456,-104 456,-104 462,-104 468,-110 468,-116 468,-116 468,-175 468,-175 468,-181 462,-187 456,-187\"/>\n<text text-anchor=\"start\" x=\"359\" y=\"-171.8\" font-family=\"Helvetica,sans-Serif\" font-size=\"14.00\" fill=\"#000000\">Co ≤ 0.487</text>\n<text text-anchor=\"start\" x=\"343.5\" y=\"-156.8\" font-family=\"Helvetica,sans-Serif\" font-size=\"14.00\" fill=\"#000000\">entropy = 0.998</text>\n<text text-anchor=\"start\" x=\"350.5\" y=\"-141.8\" font-family=\"Helvetica,sans-Serif\" font-size=\"14.00\" fill=\"#000000\">samples = 68</text>\n<text text-anchor=\"start\" x=\"329\" y=\"-126.8\" font-family=\"Helvetica,sans-Serif\" font-size=\"14.00\" fill=\"#000000\">value = [57, 0, 0, 52]</text>\n<text text-anchor=\"start\" x=\"351\" y=\"-111.8\" font-family=\"Helvetica,sans-Serif\" font-size=\"14.00\" fill=\"#000000\">class = Virgin</text>\n</g>\n<!-- 0&#45;&gt;4 -->\n<g id=\"edge4\" class=\"edge\">\n<title>0&#45;&gt;4</title>\n<path fill=\"none\" stroke=\"#000000\" d=\"M338.5786,-222.8796C344.9572,-214.0534 351.754,-204.6485 358.3319,-195.5466\"/>\n<polygon fill=\"#000000\" stroke=\"#000000\" points=\"361.2723,-197.4532 364.293,-187.2981 355.5988,-193.353 361.2723,-197.4532\"/>\n<text text-anchor=\"middle\" x=\"368.2662\" y=\"-208.2803\" font-family=\"Helvetica,sans-Serif\" font-size=\"14.00\" fill=\"#000000\">False</text>\n</g>\n<!-- 2 -->\n<g id=\"node3\" class=\"node\">\n<title>2</title>\n<path fill=\"#399de5\" stroke=\"#000000\" d=\"M127,-68C127,-68 12,-68 12,-68 6,-68 0,-62 0,-56 0,-56 0,-12 0,-12 0,-6 6,0 12,0 12,0 127,0 127,0 133,0 139,-6 139,-12 139,-12 139,-56 139,-56 139,-62 133,-68 127,-68\"/>\n<text text-anchor=\"start\" x=\"27\" y=\"-52.8\" font-family=\"Helvetica,sans-Serif\" font-size=\"14.00\" fill=\"#000000\">entropy = 0.0</text>\n<text text-anchor=\"start\" x=\"25.5\" y=\"-37.8\" font-family=\"Helvetica,sans-Serif\" font-size=\"14.00\" fill=\"#000000\">samples = 30</text>\n<text text-anchor=\"start\" x=\"8\" y=\"-22.8\" font-family=\"Helvetica,sans-Serif\" font-size=\"14.00\" fill=\"#000000\">value = [0, 0, 44, 0]</text>\n<text text-anchor=\"start\" x=\"9\" y=\"-7.8\" font-family=\"Helvetica,sans-Serif\" font-size=\"14.00\" fill=\"#000000\">class = Household</text>\n</g>\n<!-- 1&#45;&gt;2 -->\n<g id=\"edge2\" class=\"edge\">\n<title>1&#45;&gt;2</title>\n<path fill=\"none\" stroke=\"#000000\" d=\"M165.5284,-103.9815C152.1604,-94.2394 137.9396,-83.8759 124.6528,-74.193\"/>\n<polygon fill=\"#000000\" stroke=\"#000000\" points=\"126.6595,-71.3247 116.5165,-68.2637 122.5368,-76.9819 126.6595,-71.3247\"/>\n</g>\n<!-- 3 -->\n<g id=\"node4\" class=\"node\">\n<title>3</title>\n<path fill=\"#47e539\" stroke=\"#000000\" d=\"M284,-68C284,-68 169,-68 169,-68 163,-68 157,-62 157,-56 157,-56 157,-12 157,-12 157,-6 163,0 169,0 169,0 284,0 284,0 290,0 296,-6 296,-12 296,-12 296,-56 296,-56 296,-62 290,-68 284,-68\"/>\n<text text-anchor=\"start\" x=\"184\" y=\"-52.8\" font-family=\"Helvetica,sans-Serif\" font-size=\"14.00\" fill=\"#000000\">entropy = 0.0</text>\n<text text-anchor=\"start\" x=\"182.5\" y=\"-37.8\" font-family=\"Helvetica,sans-Serif\" font-size=\"14.00\" fill=\"#000000\">samples = 36</text>\n<text text-anchor=\"start\" x=\"165\" y=\"-22.8\" font-family=\"Helvetica,sans-Serif\" font-size=\"14.00\" fill=\"#000000\">value = [0, 63, 0, 0]</text>\n<text text-anchor=\"start\" x=\"172\" y=\"-7.8\" font-family=\"Helvetica,sans-Serif\" font-size=\"14.00\" fill=\"#000000\">class = Industrial</text>\n</g>\n<!-- 1&#45;&gt;3 -->\n<g id=\"edge3\" class=\"edge\">\n<title>1&#45;&gt;3</title>\n<path fill=\"none\" stroke=\"#000000\" d=\"M223.9895,-103.9815C224.2895,-95.618 224.606,-86.7965 224.9093,-78.3409\"/>\n<polygon fill=\"#000000\" stroke=\"#000000\" points=\"228.41,-78.3828 225.2708,-68.2637 221.4145,-78.1317 228.41,-78.3828\"/>\n</g>\n<!-- 5 -->\n<g id=\"node6\" class=\"node\">\n<title>5</title>\n<path fill=\"#e58139\" stroke=\"#000000\" d=\"M448,-68C448,-68 333,-68 333,-68 327,-68 321,-62 321,-56 321,-56 321,-12 321,-12 321,-6 327,0 333,0 333,0 448,0 448,0 454,0 460,-6 460,-12 460,-12 460,-56 460,-56 460,-62 454,-68 448,-68\"/>\n<text text-anchor=\"start\" x=\"348\" y=\"-52.8\" font-family=\"Helvetica,sans-Serif\" font-size=\"14.00\" fill=\"#000000\">entropy = 0.0</text>\n<text text-anchor=\"start\" x=\"346.5\" y=\"-37.8\" font-family=\"Helvetica,sans-Serif\" font-size=\"14.00\" fill=\"#000000\">samples = 35</text>\n<text text-anchor=\"start\" x=\"329\" y=\"-22.8\" font-family=\"Helvetica,sans-Serif\" font-size=\"14.00\" fill=\"#000000\">value = [57, 0, 0, 0]</text>\n<text text-anchor=\"start\" x=\"347\" y=\"-7.8\" font-family=\"Helvetica,sans-Serif\" font-size=\"14.00\" fill=\"#000000\">class = Virgin</text>\n</g>\n<!-- 4&#45;&gt;5 -->\n<g id=\"edge5\" class=\"edge\">\n<title>4&#45;&gt;5</title>\n<path fill=\"none\" stroke=\"#000000\" d=\"M393.0105,-103.9815C392.7105,-95.618 392.394,-86.7965 392.0907,-78.3409\"/>\n<polygon fill=\"#000000\" stroke=\"#000000\" points=\"395.5855,-78.1317 391.7292,-68.2637 388.59,-78.3828 395.5855,-78.1317\"/>\n</g>\n<!-- 6 -->\n<g id=\"node7\" class=\"node\">\n<title>6</title>\n<path fill=\"#d739e5\" stroke=\"#000000\" d=\"M605,-68C605,-68 490,-68 490,-68 484,-68 478,-62 478,-56 478,-56 478,-12 478,-12 478,-6 484,0 490,0 490,0 605,0 605,0 611,0 617,-6 617,-12 617,-12 617,-56 617,-56 617,-62 611,-68 605,-68\"/>\n<text text-anchor=\"start\" x=\"505\" y=\"-52.8\" font-family=\"Helvetica,sans-Serif\" font-size=\"14.00\" fill=\"#000000\">entropy = 0.0</text>\n<text text-anchor=\"start\" x=\"503.5\" y=\"-37.8\" font-family=\"Helvetica,sans-Serif\" font-size=\"14.00\" fill=\"#000000\">samples = 33</text>\n<text text-anchor=\"start\" x=\"486\" y=\"-22.8\" font-family=\"Helvetica,sans-Serif\" font-size=\"14.00\" fill=\"#000000\">value = [0, 0, 0, 52]</text>\n<text text-anchor=\"start\" x=\"502\" y=\"-7.8\" font-family=\"Helvetica,sans-Serif\" font-size=\"14.00\" fill=\"#000000\">class = Waste</text>\n</g>\n<!-- 4&#45;&gt;6 -->\n<g id=\"edge6\" class=\"edge\">\n<title>4&#45;&gt;6</title>\n<path fill=\"none\" stroke=\"#000000\" d=\"M451.4716,-103.9815C464.8396,-94.2394 479.0604,-83.8759 492.3472,-74.193\"/>\n<polygon fill=\"#000000\" stroke=\"#000000\" points=\"494.4632,-76.9819 500.4835,-68.2637 490.3405,-71.3247 494.4632,-76.9819\"/>\n</g>\n</g>\n</svg>\n"
          },
          "metadata": {},
          "execution_count": 26
        }
      ]
    },
    {
      "cell_type": "markdown",
      "metadata": {
        "id": "h4Hwj34ziWQW"
      },
      "source": [
        "## Making the Confusion Matrix"
      ]
    },
    {
      "cell_type": "code",
      "metadata": {
        "id": "D6bpZwUiiXic",
        "colab": {
          "base_uri": "https://localhost:8080/"
        },
        "outputId": "878b46e6-9fb7-4141-94ec-19336abec48f"
      },
      "source": [
        "from sklearn.metrics import confusion_matrix, accuracy_score\n",
        "from sklearn.metrics import classification_report\n",
        "y_pred = classifier.predict(X_test)\n",
        "cm = confusion_matrix(y_test, y_pred)\n",
        "print(cm)\n",
        "print(accuracy_score(y_test, y_pred))\n",
        "\n",
        "y_pred2 = classifier2.predict(X_test)\n",
        "cm2 = confusion_matrix(y_test, y_pred2)\n",
        "print(cm2)\n",
        "print(accuracy_score(y_test, y_pred2))\n",
        "\n",
        "target_names = ['Virgin','Industrial','Household','Waste']\n",
        "print(classification_report(y_test, y_pred, target_names=target_names))\n",
        "print(classification_report(y_test, y_pred2, target_names=target_names))\n",
        "\n",
        "\n"
      ],
      "execution_count": null,
      "outputs": [
        {
          "output_type": "stream",
          "name": "stdout",
          "text": [
            "[[27  0  0  0]\n",
            " [ 0 25  0  0]\n",
            " [ 0  0 30  0]\n",
            " [ 0  0  0 25]]\n",
            "1.0\n",
            "[[27  0  0  0]\n",
            " [ 0 25  0  0]\n",
            " [ 0  0 30  0]\n",
            " [ 0  0  0 25]]\n",
            "1.0\n",
            "              precision    recall  f1-score   support\n",
            "\n",
            "      Virgin       1.00      1.00      1.00        27\n",
            "  Industrial       1.00      1.00      1.00        25\n",
            "   Household       1.00      1.00      1.00        30\n",
            "       Waste       1.00      1.00      1.00        25\n",
            "\n",
            "    accuracy                           1.00       107\n",
            "   macro avg       1.00      1.00      1.00       107\n",
            "weighted avg       1.00      1.00      1.00       107\n",
            "\n",
            "              precision    recall  f1-score   support\n",
            "\n",
            "      Virgin       1.00      1.00      1.00        27\n",
            "  Industrial       1.00      1.00      1.00        25\n",
            "   Household       1.00      1.00      1.00        30\n",
            "       Waste       1.00      1.00      1.00        25\n",
            "\n",
            "    accuracy                           1.00       107\n",
            "   macro avg       1.00      1.00      1.00       107\n",
            "weighted avg       1.00      1.00      1.00       107\n",
            "\n"
          ]
        }
      ]
    },
    {
      "cell_type": "code",
      "metadata": {
        "colab": {
          "base_uri": "https://localhost:8080/"
        },
        "id": "scgISz6Ln4PS",
        "outputId": "6d2597cc-a76a-426e-fecd-4974679e74c4"
      },
      "source": [
        "# Training the SVM model on the Training set\n",
        "# from sklearn.preprocessing import StandardScaler\n",
        "# sc = StandardScaler()\n",
        "# X_train = sc.fit_transform(X_train)\n",
        "# X_test = sc.transform(X_test)\n",
        "from sklearn.svm import SVC\n",
        "classifier3 = SVC(kernel = 'rbf', random_state = 0)\n",
        "classifier3.fit(X_train, y_train)\n",
        "y_pred3 = classifier3.predict(X_test)\n",
        "cm3 = confusion_matrix(y_test, y_pred3)\n",
        "print(cm3)\n",
        "print(accuracy_score(y_test, y_pred3))\n"
      ],
      "execution_count": null,
      "outputs": [
        {
          "output_type": "stream",
          "name": "stdout",
          "text": [
            "[[27  0  0  0]\n",
            " [ 2 23  0  0]\n",
            " [ 0  0 30  0]\n",
            " [ 0  1  0 24]]\n",
            "0.9719626168224299\n"
          ]
        }
      ]
    },
    {
      "cell_type": "markdown",
      "metadata": {
        "id": "X6IrboZlolWq"
      },
      "source": [
        "Grid Search"
      ]
    },
    {
      "cell_type": "code",
      "metadata": {
        "id": "I4MgdwKaoCvv",
        "colab": {
          "base_uri": "https://localhost:8080/"
        },
        "outputId": "d722ab06-45f0-40f7-ac0e-7ecf376d9df3"
      },
      "source": [
        "from sklearn.model_selection import GridSearchCV\n",
        "parameters = [{'n_estimators': [10, 20, 50, 30,40,60,70,80,90,100],'random_state':[0,1,10,20,30]}]\n",
        "grid_search = GridSearchCV(estimator = classifier2,\n",
        "                           param_grid = parameters,\n",
        "                           scoring = 'accuracy',\n",
        "                           cv = 5,\n",
        "                           n_jobs = -1)\n",
        "grid_search.fit(X_train, y_train)\n",
        "best_accuracy = grid_search.best_score_\n",
        "best_parameters = grid_search.best_params_\n",
        "print(\"Best Accuracy: {:.2f} %\".format(best_accuracy*100))\n",
        "print(\"Best Parameters:\", best_parameters)"
      ],
      "execution_count": null,
      "outputs": [
        {
          "output_type": "stream",
          "name": "stdout",
          "text": [
            "Best Accuracy: 100.00 %\n",
            "Best Parameters: {'n_estimators': 10, 'random_state': 0}\n"
          ]
        }
      ]
    },
    {
      "cell_type": "code",
      "metadata": {
        "id": "GVS0_Bp9QY0O",
        "colab": {
          "base_uri": "https://localhost:8080/"
        },
        "outputId": "d933061e-c049-4313-8612-88e15dc3c0b7"
      },
      "source": [
        "# # Visualising the Test set results\n",
        "# from matplotlib.colors import ListedColormap\n",
        "# X_set, y_set = sc.inverse_transform(X_test), y_test\n",
        "# X1, X2 = np.meshgrid(np.arange(start = X_set[:, 0].min() - 10, stop = X_set[:, 0].max() + 10, step = 0.25),\n",
        "#                      np.arange(start = X_set[:, 1].min() - 1000, stop = X_set[:, 1].max() + 1000, step = 0.25))\n",
        "# plt.contourf(X1, X2, classifier.predict(sc.transform(np.array([X1.ravel(), X2.ravel()]).T)).reshape(X1.shape),\n",
        "#              alpha = 0.75, cmap = ListedColormap(('red', 'green')))\n",
        "# plt.xlim(X1.min(), X1.max())\n",
        "# plt.ylim(X2.min(), X2.max())\n",
        "# for i, j in enumerate(np.unique(y_set)):\n",
        "#     plt.scatter(X_set[y_set == j, 0], X_set[y_set == j, 1], c = ListedColormap(('red', 'green'))(i), label = j)\n",
        "# plt.title('Decision Tree Classification (Test set)')\n",
        "# plt.xlabel('Age')\n",
        "# plt.ylabel('Estimated Salary')\n",
        "# plt.legend()\n",
        "# plt.show()\n",
        "\n",
        "Source = np.array([[100,0.5],[50, 1.5], [500, 0.1],[32,9.5]])\n",
        "print(Source)\n",
        "y_source = classifier2.predict(Source)\n",
        "print(y_source)\n",
        "Sink = np.array([[100,7.7],[37, 5.6], [200, 7.1],[20,8.5]])\n",
        "print(Sink)\n",
        "y_sink = classifier2.predict(Sink)\n",
        "print(y_sink)"
      ],
      "execution_count": null,
      "outputs": [
        {
          "output_type": "stream",
          "name": "stdout",
          "text": [
            "[[1.0e+02 5.0e-01]\n",
            " [5.0e+01 1.5e+00]\n",
            " [5.0e+02 1.0e-01]\n",
            " [3.2e+01 9.5e+00]]\n",
            "[2. 2. 4. 1.]\n",
            "[[100.    7.7]\n",
            " [ 37.    5.6]\n",
            " [200.    7.1]\n",
            " [ 20.    8.5]]\n",
            "[1. 2. 3. 1.]\n"
          ]
        }
      ]
    },
    {
      "cell_type": "markdown",
      "metadata": {
        "id": "dPxZSlDxV6Em"
      },
      "source": [
        "Clustering"
      ]
    },
    {
      "cell_type": "code",
      "metadata": {
        "colab": {
          "base_uri": "https://localhost:8080/",
          "height": 295
        },
        "id": "oz1icyMFZjtp",
        "outputId": "b74665ab-d3a9-4edc-93f8-c7b8d85ca512"
      },
      "source": [
        "# Using the elbow method to find the optimal number of clusters\n",
        "X_c = X\n",
        "\n",
        "\n",
        "#####X_c=X_train\n",
        "\n",
        "sc.fit(X_c)\n",
        "X_c=sc.transform(X_c)\n",
        "#X_c = sc.fit_transform(X_c)\n",
        "\n",
        "\n",
        "\n",
        "\n",
        "from sklearn.cluster import KMeans\n",
        "wcss = []\n",
        "for i in range(1, 11):\n",
        "    kmeans = KMeans(n_clusters = i, init = 'k-means++', random_state = 42)\n",
        "    kmeans.fit(X_c)\n",
        "    wcss.append(kmeans.inertia_)\n",
        "plt.plot(range(1, 11), wcss)\n",
        "plt.title('The Elbow Method')\n",
        "plt.xlabel('Number of clusters')\n",
        "plt.ylabel('WCSS')\n",
        "plt.show()"
      ],
      "execution_count": null,
      "outputs": [
        {
          "output_type": "display_data",
          "data": {
            "image/png": "[encoded data removed]",
            "text/plain": [
              "<Figure size 432x288 with 1 Axes>"
            ]
          },
          "metadata": {
            "needs_background": "light"
          }
        }
      ]
    },
    {
      "cell_type": "code",
      "metadata": {
        "colab": {
          "base_uri": "https://localhost:8080/",
          "height": 295
        },
        "id": "Y7SccLzmZ6lZ",
        "outputId": "98590e8f-a113-4589-b50f-0206d3f072f1"
      },
      "source": [
        "# Training the K-Means model on the dataset\n",
        "kmeans = KMeans(n_clusters = 4, init = 'k-means++', random_state = 42)\n",
        "y_kmeans = kmeans.fit_predict(X_c)\n",
        "X_c = sc.inverse_transform(X_c)\n",
        "kmeans.cluster_centers_ = sc.inverse_transform(kmeans.cluster_centers_)\n",
        "\n",
        "# Visualising the clusters\n",
        "plt.scatter(X_c[y_kmeans == 0, 0], X_c[y_kmeans == 0, 1], s = 100, c = 'red', label = 'Cluster 1')\n",
        "plt.scatter(X_c[y_kmeans == 1, 0], X_c[y_kmeans == 1, 1], s = 100, c = 'blue', label = 'Cluster 2')\n",
        "plt.scatter(X_c[y_kmeans == 2, 0], X_c[y_kmeans == 2, 1], s = 100, c = 'green', label = 'Cluster 3')\n",
        "plt.scatter(X_c[y_kmeans == 3, 0], X_c[y_kmeans == 3, 1], s = 100, c = 'cyan', label = 'Cluster 4')\n",
        "plt.scatter(X_c[y_kmeans == 4, 0], X_c[y_kmeans == 4, 1], s = 100, c = 'magenta', label = 'Cluster 5')\n",
        "plt.scatter(kmeans.cluster_centers_[:, 0], kmeans.cluster_centers_[:, 1], s = 300, c = 'yellow', label = 'Centroids')\n",
        "plt.title('Clusters of plastic waste')\n",
        "plt.xlabel('Metal concentration (ppm)')\n",
        "plt.ylabel('MFI ')\n",
        "plt.legend()\n",
        "plt.show()"
      ],
      "execution_count": null,
      "outputs": [
        {
          "output_type": "display_data",
          "data": {
            "image/png": "[encoded data removed]",
            "text/plain": [
              "<Figure size 432x288 with 1 Axes>"
            ]
          },
          "metadata": {
            "needs_background": "light"
          }
        }
      ]
    },
    {
      "cell_type": "code",
      "metadata": {
        "colab": {
          "base_uri": "https://localhost:8080/",
          "height": 295
        },
        "id": "cKcAzk37V_fw",
        "outputId": "ca3e242b-e8cc-4140-d827-70c2f334fe6d"
      },
      "source": [
        "import scipy.cluster.hierarchy as sch\n",
        "X_c = sc.fit_transform(X_c)\n",
        "\n",
        "dendrogram = sch.dendrogram(sch.linkage(X_c, method = 'ward'))\n",
        "plt.title('Dendrogram')\n",
        "plt.xlabel('Data')\n",
        "plt.ylabel('Euclidean distances')\n",
        "plt.show()"
      ],
      "execution_count": null,
      "outputs": [
        {
          "output_type": "display_data",
          "data": {
            "image/png": "[encoded data removed]",
            "text/plain": [
              "<Figure size 432x288 with 1 Axes>"
            ]
          },
          "metadata": {
            "needs_background": "light"
          }
        }
      ]
    },
    {
      "cell_type": "code",
      "metadata": {
        "id": "y36oQiqOWMlY"
      },
      "source": [
        "# Training the Hierarchical Clustering model on the dataset\n",
        "from sklearn.cluster import AgglomerativeClustering\n",
        "\n",
        "hc = AgglomerativeClustering(n_clusters = 4, affinity = 'euclidean', linkage = 'ward')\n",
        "y_hc = hc.fit_predict(X_c)\n",
        "X_c = sc.inverse_transform(X_c)"
      ],
      "execution_count": null,
      "outputs": []
    },
    {
      "cell_type": "code",
      "metadata": {
        "colab": {
          "base_uri": "https://localhost:8080/",
          "height": 295
        },
        "id": "QZlNCFSHWYFI",
        "outputId": "95b1703d-a8b0-41ed-9261-2cfec54dde27"
      },
      "source": [
        "# Visualising the clusters\n",
        "plt.scatter(X_c[y_hc == 0, 0], X_c[y_hc == 0, 1], s = 100, c = 'red', label = 'Cluster 1')\n",
        "plt.scatter(X_c[y_hc == 1, 0], X_c[y_hc == 1, 1], s = 100, c = 'blue', label = 'Cluster 2')\n",
        "plt.scatter(X_c[y_hc == 2, 0], X_c[y_hc == 2, 1], s = 100, c = 'green', label = 'Cluster 3')\n",
        "plt.scatter(X_c[y_hc == 3, 0], X_c[y_hc == 3, 1], s = 100, c = 'cyan', label = 'Cluster 4')\n",
        "plt.scatter(X_c[y_hc == 4, 0], X_c[y_hc == 4, 1], s = 100, c = 'magenta', label = 'Cluster 5')\n",
        "plt.title('Clusters of plastic waste')\n",
        "plt.xlabel('Metal Concentrations (ppm)')\n",
        "plt.ylabel('MFI')\n",
        "plt.legend()\n",
        "plt.show()"
      ],
      "execution_count": null,
      "outputs": [
        {
          "output_type": "display_data",
          "data": {
            "image/png": "[encoded data removed]",
            "text/plain": [
              "<Figure size 432x288 with 1 Axes>"
            ]
          },
          "metadata": {
            "needs_background": "light"
          }
        }
      ]
    }
  ]
}